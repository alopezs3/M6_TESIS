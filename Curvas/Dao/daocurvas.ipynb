{
 "cells": [
  {
   "cell_type": "code",
   "execution_count": 1,
   "id": "51c6cf32",
   "metadata": {},
   "outputs": [],
   "source": [
    "import numpy as np\n",
    "import matplotlib.pyplot as plt\n",
    "import pandas as pd\n",
    "from tqdm import tqdm\n",
    "import pickle\n",
    "from scipy.optimize import curve_fit\n",
    "from matplotlib.backends.backend_pdf import PdfPages\n",
    "from scipy.signal import lombscargle as lbsc\n",
    "from astropy.timeseries import LombScargle"
   ]
  },
  {
   "cell_type": "code",
   "execution_count": 2,
   "id": "150fc11e",
   "metadata": {},
   "outputs": [],
   "source": [
    "with open('time.dat', 'r') as file:\n",
    "    lineas = file.readlines()\n",
    "time = np.zeros(len(lineas))\n",
    "for i in range(len(lineas)):\n",
    "    time[i] = float(lineas[i].strip())"
   ]
  },
  {
   "cell_type": "code",
   "execution_count": 3,
   "id": "ee0ef45f",
   "metadata": {},
   "outputs": [
    {
     "name": "stderr",
     "output_type": "stream",
     "text": [
      "578016it [00:03, 148855.12it/s]\n"
     ]
    }
   ],
   "source": [
    "#Abre el archivo master.raw (el primero de cuatro) y luego los divide en listas de estrellas\n",
    "with open('master.raw', 'r') as file:\n",
    "    # Lee todas las líneas del archivo\n",
    "    lines = file.readlines()\n",
    "match1 = []\n",
    "valores = []\n",
    "for i, line in tqdm(enumerate(lines)):\n",
    "    # Usa split para dividir la línea en palabras\n",
    "    valores.extend([float(word) for word in line.split()])\n",
    "    # Verifica si ha leído 36 líneas\n",
    "    if (i + 1) % 36 == 0:\n",
    "        del valores[-2:]\n",
    "        match1.append(valores)\n",
    "        valores = []"
   ]
  },
  {
   "cell_type": "code",
   "execution_count": 7,
   "id": "29f9da28",
   "metadata": {},
   "outputs": [
    {
     "name": "stderr",
     "output_type": "stream",
     "text": [
      "479304it [00:03, 150268.83it/s]\n"
     ]
    }
   ],
   "source": [
    "with open('master2.raw', 'r') as file:\n",
    "    # Lee todas las líneas del archivo\n",
    "    lines = file.readlines()\n",
    "match2 = []\n",
    "valores = []\n",
    "for i, line in tqdm(enumerate(lines)):\n",
    "    # Usa split para dividir la línea en palabras\n",
    "    valores.extend([float(word) for word in line.split()])\n",
    "\n",
    "    # Verifica si hemos leído 36 líneas\n",
    "    if (i + 1) % 36 == 0:\n",
    "        del valores[-2:]\n",
    "        del valores[3:5]\n",
    "        # Imprime la lista de palabras para esta iteración\n",
    "        # Reinicia la lista de palabras para la próxima iteración\n",
    "        match2.append(valores)\n",
    "        valores = []"
   ]
  },
  {
   "cell_type": "code",
   "execution_count": 8,
   "id": "75e88228",
   "metadata": {},
   "outputs": [
    {
     "name": "stderr",
     "output_type": "stream",
     "text": [
      "433620it [00:02, 161508.65it/s]\n"
     ]
    }
   ],
   "source": [
    "with open('master3.raw', 'r') as file:\n",
    "    # Lee todas las líneas del archivo\n",
    "    lines = file.readlines()\n",
    "match3 = []\n",
    "valores = []\n",
    "for i, line in tqdm(enumerate(lines)):\n",
    "    # Usa split para dividir la línea en palabras\n",
    "    valores.extend([float(word) for word in line.split()])\n",
    "\n",
    "    # Verifica si hemos leído 36 líneas\n",
    "    if (i + 1) % 36 == 0:\n",
    "        del valores[-2:]\n",
    "        del valores[3:5]\n",
    "        # Imprime la lista de palabras para esta iteración\n",
    "        # Reinicia la lista de palabras para la próxima iteración\n",
    "        match3.append(valores)\n",
    "        valores = []"
   ]
  },
  {
   "cell_type": "code",
   "execution_count": 9,
   "id": "065bffcd",
   "metadata": {},
   "outputs": [
    {
     "name": "stderr",
     "output_type": "stream",
     "text": [
      "349428it [00:02, 154317.88it/s]\n"
     ]
    }
   ],
   "source": [
    "with open('master4.raw', 'r') as file:\n",
    "    # Lee todas las líneas del archivo\n",
    "    lines = file.readlines()\n",
    "match4 = []\n",
    "valores = []\n",
    "for i, line in tqdm(enumerate(lines)):\n",
    "    # Usa split para dividir la línea en palabras\n",
    "    valores.extend([float(word) for word in line.split()])\n",
    "\n",
    "    # Verifica si hemos leído 36 líneas\n",
    "    if (i + 1) % 37 == 0:\n",
    "        del valores[-2:]\n",
    "        del valores[3:5]\n",
    "        # Imprime la lista de palabras para esta iteración\n",
    "        # Reinicia la lista de palabras para la próxima iteración\n",
    "        match4.append(valores)\n",
    "        valores = []"
   ]
  },
  {
   "cell_type": "code",
   "execution_count": 11,
   "id": "29fdffbe",
   "metadata": {},
   "outputs": [
    {
     "name": "stderr",
     "output_type": "stream",
     "text": [
      "100%|████████████████████████████████████| 16056/16056 [01:56<00:00, 137.49it/s]\n",
      "100%|████████████████████████████████████| 12020/12020 [01:14<00:00, 160.38it/s]\n",
      "100%|████████████████████████████████████| 10565/10565 [00:55<00:00, 191.34it/s]\n"
     ]
    }
   ],
   "source": [
    "#Función para unir los 4 archivos\n",
    "def unir(mch1, mch2):\n",
    "    mch3 = []\n",
    "    for i in tqdm(range(len(mch1))):\n",
    "        if mch1[i][0] < 200000:\n",
    "            for j in range(len(mch2)):\n",
    "                if mch1[i][0] == mch2[j][0]:\n",
    "                    mch3.append(mch1[i] + mch2[j][3:])\n",
    "    return mch3\n",
    "mch1 = unir(match1, match2)\n",
    "mch2 = unir(mch1, match3)\n",
    "master = unir(mch2, match4)"
   ]
  },
  {
   "cell_type": "code",
   "execution_count": 12,
   "id": "6644f8fc",
   "metadata": {},
   "outputs": [],
   "source": [
    "#guarda la lista como un objeto .pickle\n",
    "with open(\"master.pickle\", \"wb\") as f:\n",
    "    pickle.dump(master, f)"
   ]
  },
  {
   "cell_type": "code",
   "execution_count": 5,
   "id": "cbab9cd5",
   "metadata": {},
   "outputs": [],
   "source": [
    "with open(\"master.pickle\", \"rb\") as f:\n",
    "    master = pickle.load(f)"
   ]
  },
  {
   "cell_type": "code",
   "execution_count": 6,
   "id": "026f4f41",
   "metadata": {},
   "outputs": [
    {
     "name": "stderr",
     "output_type": "stream",
     "text": [
      "100%|███████████████████████████████████| 8618/8618 [00:00<00:00, 652723.32it/s]\n"
     ]
    }
   ],
   "source": [
    "#obtiene los ids de acuerdo a la imagen máster\n",
    "ids = []\n",
    "for i in tqdm(range(len(master))):\n",
    "    ids.append(master[i][0])"
   ]
  },
  {
   "cell_type": "code",
   "execution_count": 7,
   "id": "07bfd702",
   "metadata": {},
   "outputs": [
    {
     "name": "stderr",
     "output_type": "stream",
     "text": [
      "100%|█████████████████████████████████████| 8618/8618 [00:03<00:00, 2386.05it/s]\n"
     ]
    }
   ],
   "source": [
    "#Divide entre magnitudes y errores para cada lista.\n",
    "def getmag(master):\n",
    "    mag = []\n",
    "    merr = []\n",
    "    for i in tqdm(range(len(master))):\n",
    "        mast = master[i][3:]\n",
    "        mag2 = []\n",
    "        merr2 = []\n",
    "        for j in range(len(mast)):\n",
    "            if (j+2)%2==0:\n",
    "                mag2.append(mast[j])\n",
    "            else:\n",
    "                merr2.append(mast[j])\n",
    "        mag.append(np.array(mag2))\n",
    "        merr.append(np.array(merr2))\n",
    "    return mag, merr\n",
    "mag, merr = getmag(master)"
   ]
  },
  {
   "cell_type": "code",
   "execution_count": 8,
   "id": "fbc5a027",
   "metadata": {},
   "outputs": [
    {
     "name": "stderr",
     "output_type": "stream",
     "text": [
      "100%|████████████████████████████████████| 8618/8618 [00:00<00:00, 17990.45it/s]\n"
     ]
    }
   ],
   "source": [
    "for i in tqdm(range(len(mag))):\n",
    "    mag[i][mag[i]==99.9999] = np.nan\n",
    "    merr[i][merr[i]==9.9999] = np.nan"
   ]
  },
  {
   "cell_type": "code",
   "execution_count": 9,
   "id": "b15ed076",
   "metadata": {},
   "outputs": [],
   "source": [
    "with open(\"magMaster.pickle\", \"wb\") as f:\n",
    "    pickle.dump(mag, f)\n",
    "with open(\"merrMaster.pickle\", \"wb\") as f:\n",
    "    pickle.dump(master, f)"
   ]
  },
  {
   "cell_type": "code",
   "execution_count": 3,
   "id": "33d69c1a",
   "metadata": {},
   "outputs": [],
   "source": [
    "with open(\"magMaster.pickle\", \"rb\") as f:\n",
    "    mag = pickle.load(f)\n",
    "with open(\"merrMaster.pickle\", \"rb\") as f:\n",
    "    merr = pickle.load(f)"
   ]
  },
  {
   "cell_type": "code",
   "execution_count": 10,
   "id": "5db8ba00",
   "metadata": {},
   "outputs": [
    {
     "name": "stderr",
     "output_type": "stream",
     "text": [
      "100%|███████████████████████████████████████| 8618/8618 [13:26<00:00, 10.68it/s]\n"
     ]
    }
   ],
   "source": [
    "magt = []\n",
    "merrt = []\n",
    "idt = []\n",
    "for i in tqdm(range(len(mag))):\n",
    "    len_sin_nan = np.count_nonzero(~np.isnan(mag))\n",
    "    if len_sin_nan > 63:\n",
    "        magt.append(mag[i])\n",
    "        merrt.append(merr[i])\n",
    "        idt.append(ids[i])        "
   ]
  },
  {
   "cell_type": "code",
   "execution_count": 11,
   "id": "8188883f",
   "metadata": {},
   "outputs": [],
   "source": [
    "with open(\"magMT.pickle\", \"wb\") as f:\n",
    "    pickle.dump(magt, f)\n",
    "with open(\"merrMT.pickle\", \"wb\") as f:\n",
    "    pickle.dump(merrt, f)\n",
    "with open(\"idMT.pickle\", \"wb\") as f:\n",
    "    pickle.dump(idt, f)"
   ]
  },
  {
   "cell_type": "code",
   "execution_count": 3,
   "id": "595177b0",
   "metadata": {},
   "outputs": [],
   "source": [
    "with open(\"magMT.pickle\", \"rb\") as f:\n",
    "    mag = pickle.load(f)\n",
    "with open(\"merrMT.pickle\", \"rb\") as f:\n",
    "    merr = pickle.load(f)\n",
    "with open(\"idMT.pickle\", \"rb\") as f:\n",
    "    ids = pickle.load(f)"
   ]
  },
  {
   "cell_type": "code",
   "execution_count": 26,
   "id": "e29bdb72",
   "metadata": {},
   "outputs": [
    {
     "name": "stdout",
     "output_type": "stream",
     "text": [
      "9450.0 19.297 0.065\n"
     ]
    }
   ],
   "source": [
    "print(ids[5702], mag[5702][100], merr[5702][100])"
   ]
  },
  {
   "cell_type": "code",
   "execution_count": 4,
   "id": "c8c75d01",
   "metadata": {},
   "outputs": [
    {
     "name": "stderr",
     "output_type": "stream",
     "text": [
      "100%|█████████████████████████████████████| 8618/8618 [00:02<00:00, 2933.67it/s]\n"
     ]
    }
   ],
   "source": [
    "desv = []\n",
    "prom = []\n",
    "for i in tqdm(range(len(mag))):\n",
    "    prom.append(np.nanmean(mag[i]))\n",
    "    desv.append(np.nanstd(mag[i]))"
   ]
  },
  {
   "cell_type": "code",
   "execution_count": 5,
   "id": "ed4dc391",
   "metadata": {},
   "outputs": [
    {
     "data": {
      "image/png": "[encoded data removed]",
      "text/plain": [
       "<Figure size 640x480 with 1 Axes>"
      ]
     },
     "metadata": {},
     "output_type": "display_data"
    }
   ],
   "source": [
    "plt.scatter(prom, desv, c='k', s=0.25)\n",
    "plt.xlabel('Mean(V)')\n",
    "plt.ylabel(r'$\\sigma_{V}$')\n",
    "plt.grid()"
   ]
  },
  {
   "cell_type": "code",
   "execution_count": 5,
   "id": "d1a89e85",
   "metadata": {},
   "outputs": [],
   "source": [
    "mag_1 = mag[0:2873]\n",
    "mag_2 = mag[2873:5744]\n",
    "mag_3 = mag[5744:]\n",
    "\n",
    "ids_1 = ids[0:2873]\n",
    "ids_2 = ids[2873:5744]\n",
    "ids_3 = ids[5744:]"
   ]
  },
  {
   "cell_type": "markdown",
   "id": "d5193c36",
   "metadata": {},
   "source": [
    "def func_plotBox(x,i):\n",
    "    \n",
    "    data = [value for value in x if not np.isnan(value)]\n",
    "    \n",
    "    plt.boxplot(data)\n",
    "    plt.ylabel('V')\n",
    "    plt.title(f'ID_{int(i)}')\n",
    "    pdf.savefig()\n",
    "    plt.close()\n",
    "    \n",
    "with PdfPages('MagBoxDao_1.pdf') as pdf: \n",
    "    for i in tqdm(range(len(ids_1))):\n",
    "        func_plotBox(mag_1[i], ids_1[i])"
   ]
  },
  {
   "cell_type": "code",
   "execution_count": null,
   "id": "48ae61d2",
   "metadata": {},
   "outputs": [
    {
     "name": "stderr",
     "output_type": "stream",
     "text": [
      "2592it [06:29,  7.25it/s]"
     ]
    }
   ],
   "source": [
    "with PdfPages('MagBoxDao_3.pdf') as pdf: \n",
    "    for i, magt in tqdm(enumerate(mag_3)):\n",
    "        datos = [value for value in magt if not np.isnan(value)]\n",
    "        if i%4 == 0:\n",
    "            fig, axs = plt.subplots(2, 2, figsize=(10, 8))\n",
    "            \n",
    "        fila = i%2 #se decide si el plot estará arriba o abajo\n",
    "        columna = (i // 2)%2\n",
    "        \n",
    "        axs[fila, columna].boxplot(datos)\n",
    "        axs[fila, columna].invert_yaxis()\n",
    "        axs[fila, columna].set_ylabel('V')\n",
    "        axs[fila, columna].set_title(f'ID_{int(ids_3[i])}, i={i}')\n",
    "        \n",
    "        if (i+1) % 4==0 or (i+1)==len(mag_3):\n",
    "            pdf.savefig(fig)\n",
    "            plt.close(fig)"
   ]
  },
  {
   "cell_type": "code",
   "execution_count": 4,
   "id": "48660d97",
   "metadata": {},
   "outputs": [],
   "source": [
    "def elimatp(mag, merr, time):\n",
    "    \n",
    "    data = [value for value in mag if not np.isnan(value)]\n",
    "    boxplot = plt.boxplot([data], flierprops = dict(markerfacecolor='red', marker='o'))\n",
    "    atpos = [item.get_ydata() for item in boxplot['fliers']]\n",
    "\n",
    "    magt = []\n",
    "    merrt = []\n",
    "    timet = []\n",
    "    for i in range(len(mag)):\n",
    "        if mag[i] not in atpos[0]:\n",
    "            magt.append(mag[i])\n",
    "            merrt.append(merr[i])\n",
    "            timet.append(time[i])\n",
    "    magt = np.array(magt)\n",
    "    merrt = np.array(merrt)\n",
    "    timet = np.array(timet)\n",
    "    return magt, merrt, timet"
   ]
  },
  {
   "cell_type": "code",
   "execution_count": 5,
   "id": "c1d413d5",
   "metadata": {},
   "outputs": [
    {
     "name": "stderr",
     "output_type": "stream",
     "text": [
      "100%|███████████████████████████████████████| 8618/8618 [03:28<00:00, 41.41it/s]\n"
     ]
    },
    {
     "data": {
      "image/png": "[encoded data removed]",
      "text/plain": [
       "<Figure size 640x480 with 1 Axes>"
      ]
     },
     "metadata": {},
     "output_type": "display_data"
    }
   ],
   "source": [
    "mag1 = []\n",
    "merr1 = []\n",
    "ids1 = []\n",
    "time1 = []\n",
    "for i in tqdm(range(len(mag))):\n",
    "    magt, merrt, timet = elimatp(mag[i], merr[i], time)\n",
    "    len_sin_nan = np.count_nonzero(~np.isnan(magt))\n",
    "    if len_sin_nan >= 63:\n",
    "        mag1.append(magt)\n",
    "        merr1.append(merrt)\n",
    "        ids1.append(ids[i])\n",
    "        time1.append(timet)\n",
    "plt.close()"
   ]
  },
  {
   "cell_type": "code",
   "execution_count": 7,
   "id": "58ae70f6",
   "metadata": {},
   "outputs": [],
   "source": [
    "with open(\"mag_1.pickle\", \"wb\") as f:\n",
    "    pickle.dump(mag1, f)\n",
    "with open(\"merr_1.pickle\", \"wb\") as f:\n",
    "    pickle.dump(merr1, f)\n",
    "with open(\"ids_1.pickle\", \"wb\") as f:\n",
    "    pickle.dump(ids1, f)\n",
    "with open(\"time_1.pickle\", \"wb\") as f:\n",
    "    pickle.dump(ids1, f)"
   ]
  },
  {
   "cell_type": "code",
   "execution_count": 3,
   "id": "5c6ed647",
   "metadata": {},
   "outputs": [],
   "source": [
    "with open(\"mag_1.pickle\", \"rb\") as f:\n",
    "    mag1 = pickle.load(f)\n",
    "with open(\"merr_1.pickle\", \"rb\") as f:\n",
    "    merr1 = pickle.load(f)\n",
    "with open(\"ids_1.pickle\", \"rb\") as f:\n",
    "    ids1 = pickle.load(f)\n",
    "with open(\"time_1.pickle\", \"rb\") as f:\n",
    "    time1 = pickle.load(f)"
   ]
  },
  {
   "cell_type": "code",
   "execution_count": 8,
   "id": "22d20e77",
   "metadata": {},
   "outputs": [
    {
     "name": "stderr",
     "output_type": "stream",
     "text": [
      "100%|█████████████████████████████████████| 8618/8618 [00:03<00:00, 2494.40it/s]\n"
     ]
    }
   ],
   "source": [
    "desv1 = []\n",
    "prom1 = []\n",
    "for i in tqdm(range(len(mag1))):\n",
    "    prom1.append(np.nanmean(mag1[i]))\n",
    "    desv1.append(np.nanstd(mag1[i]))"
   ]
  },
  {
   "cell_type": "code",
   "execution_count": 12,
   "id": "b1a4dce4",
   "metadata": {},
   "outputs": [
    {
     "data": {
      "image/png": "[encoded data removed]",
      "text/plain": [
       "<Figure size 640x480 with 1 Axes>"
      ]
     },
     "metadata": {},
     "output_type": "display_data"
    }
   ],
   "source": [
    "plt.scatter(prom1, desv1, c='k', s=0.25)\n",
    "plt.xlabel('Mean(V)')\n",
    "plt.ylabel(r'$\\sigma_{V}$')\n",
    "plt.grid()"
   ]
  },
  {
   "cell_type": "code",
   "execution_count": 9,
   "id": "c399c8e7",
   "metadata": {},
   "outputs": [],
   "source": [
    "(def filtrar15mag(mag, merr, ids, prom, desv, time):\n",
    "    \n",
    "    magt = []\n",
    "    merrt = []\n",
    "    idst = []\n",
    "    promt = []\n",
    "    desvt = []\n",
    "    timet = []\n",
    "    \n",
    "    for i in tqdm(range(len(prom))):\n",
    "        if (prom[i]>=15):\n",
    "            ma)gt.append(mag[i])\n",
    "            merrt.append(merr[i])\n",
    "            idst.append(ids[i])\n",
    "            promt.append(prom[i])\n",
    "            desvt.append(desv[i])\n",
    "            timet.append(time[i])\n",
    "            \n",
    "        \n",
    "    return magt, merrt, idst, promt, desvt, timet"
   ]
  },
  {
   "cell_type": "code",
   "execution_count": 10,
   "id": "1a15d8de",
   "metadata": {},
   "outputs": [
    {
     "name": "stderr",
     "output_type": "stream",
     "text": [
      "100%|████████████████████████████████████| 8618/8618 [00:00<00:00, 11175.41it/s]\n"
     ]
    }
   ],
   "source": [
    "mag2, merr2, ids2, prom2, desv2, time2 = filtrar15mag(mag1, merr1, ids1, prom1, desv1, time1)"
   ]
  },
  {
   "cell_type": "code",
   "execution_count": 30,
   "id": "dd2f0ea7",
   "metadata": {},
   "outputs": [
    {
     "name": "stdout",
     "output_type": "stream",
     "text": [
      "[16.571 16.479 16.501 16.408 16.507 16.57  16.502    nan    nan 16.531\n",
      "    nan    nan    nan 16.534 16.54  16.521 16.438 16.398    nan 16.531\n",
      " 16.488    nan    nan 16.528 16.519 16.412    nan 16.523 16.496 16.544\n",
      " 16.519 16.408    nan 16.593 16.537 16.491 16.52  16.506 16.544 16.493\n",
      "    nan 16.479 16.479 16.48  16.508 16.483 16.492 16.501 16.499 16.546\n",
      "    nan    nan 16.569 16.473 16.578    nan    nan 16.577 16.425 16.501\n",
      " 16.45     nan 16.522 16.496 16.519 16.616 16.705 16.543 16.542 16.539\n",
      " 16.525    nan 16.468 16.547 16.507    nan    nan 16.566    nan    nan\n",
      "    nan    nan 16.547 16.516    nan 16.524    nan 16.563 16.523    nan\n",
      "    nan 16.451 16.505 16.502 16.543 16.578 16.854    nan 16.572    nan\n",
      " 16.539    nan 16.494 16.582 16.495 16.498    nan 16.561 16.491    nan\n",
      " 16.5   16.517 16.543 16.507 16.487 16.516 16.513 16.448    nan 16.505\n",
      " 16.527    nan 16.455    nan    nan 16.492 16.589 16.533 16.433 16.473\n",
      "    nan 16.539 16.523 16.516 16.566 16.523 16.535 16.542 16.51     nan\n",
      "    nan 16.551 16.521 16.574 16.521 16.565 16.548 16.555 16.572 16.545\n",
      "    nan 16.537 16.525 16.506 16.591 16.561 16.567 16.483 16.582 16.498\n",
      " 16.564 16.574 16.564 16.519 16.533 16.542 16.56  16.639 16.571 16.571\n",
      " 16.551 16.545 16.527    nan 16.526 16.551    nan 16.514 16.496 16.536\n",
      " 16.539    nan 16.525 16.513 16.56  16.513 16.552 16.491    nan 16.412\n",
      " 16.521 16.555    nan 16.498 16.522 16.491 16.504 16.511 16.489 16.487\n",
      " 16.521 16.495    nan 16.375 16.523 16.527 16.515    nan 16.539 16.526\n",
      " 16.474 16.452    nan 16.475 16.476 16.455 16.478 16.673    nan 16.452\n",
      "    nan 16.45  16.465 16.463    nan    nan    nan 16.448 16.482    nan\n",
      " 16.475 16.437 16.425 16.425 16.427 16.44  16.382 16.402 16.432 16.375\n",
      " 16.395 16.293 16.352 16.373 16.374    nan 16.351    nan 16.373 16.28\n",
      " 16.342    nan 16.376 16.333 16.313 16.202 16.332 16.37  16.327 16.281\n",
      "    nan    nan 16.213 16.232 16.251 16.23  16.115 16.175 16.254 16.168\n",
      " 16.2      nan 16.219    nan 16.301 16.185 16.21  16.184    nan 16.42\n",
      " 16.167 16.061    nan 16.131 16.124    nan 16.132 16.096    nan 16.135\n",
      "    nan 16.159 16.077 16.065 16.059    nan 16.02     nan 16.009 16.046\n",
      " 16.038 16.127 16.067 15.98  15.962 16.098 15.986 16.023    nan    nan\n",
      "    nan    nan 15.962 15.922 15.921 15.91  15.97  15.892    nan 16.069\n",
      "    nan    nan 15.899 15.861    nan    nan 15.878 15.903 15.866 15.932\n",
      "    nan    nan 15.83  15.793    nan 15.801    nan    nan 16.134 16.101\n",
      "    nan    nan 16.107    nan    nan 16.149 16.155    nan 16.       nan\n",
      " 16.173 16.158 16.135 16.188 16.589    nan 16.161 16.179 16.12     nan\n",
      " 16.235    nan 16.141    nan 16.119    nan    nan 16.195 16.066    nan\n",
      "    nan 16.174 16.243 16.22  16.146    nan 16.203    nan 16.224 16.213\n",
      " 16.21  16.37  16.112    nan 16.22  16.182    nan    nan 16.223    nan\n",
      " 16.215 16.226 16.239 16.216 16.207 16.232 16.226 16.22     nan 16.249\n",
      " 16.243 16.245 16.241    nan 16.266 16.189    nan    nan 16.231    nan\n",
      "    nan 16.257 16.256    nan 16.245    nan    nan    nan    nan 16.267\n",
      "    nan 16.192 16.278    nan 16.271 16.264 16.274 16.27  16.317 16.298\n",
      "    nan 16.185 16.265 16.261    nan 16.298 16.311 16.31  16.294    nan\n",
      " 16.361 16.315    nan    nan 16.331    nan 16.315 16.34     nan 16.241\n",
      " 16.287 16.359    nan 16.671    nan 16.684 16.701    nan 16.676    nan\n",
      " 16.691 16.667 16.727 16.744 16.703    nan 16.725 16.724 16.734    nan\n",
      " 16.72  16.676 16.7   16.533    nan 16.718 16.714 16.758 16.77  16.698\n",
      " 16.707 16.747 16.688 16.758    nan    nan    nan 16.677    nan 16.688\n",
      " 16.92  16.685 16.734    nan    nan    nan 16.791 16.736 16.752    nan\n",
      "    nan    nan    nan    nan 16.576 16.785 16.904 16.87  16.862    nan\n",
      "    nan 16.888 16.724 16.674 17.028 17.035 17.054    nan    nan    nan\n",
      "    nan    nan    nan    nan    nan    nan    nan 16.679    nan 16.716\n",
      " 16.659 16.667 16.663    nan 16.222 16.078 16.243 16.223    nan 16.179\n",
      " 16.245    nan 16.202    nan 16.211 16.244 16.202 16.206 16.235    nan\n",
      "    nan 16.27  16.229    nan 16.197    nan 16.198    nan 16.352    nan\n",
      "    nan    nan 16.252 16.281 16.208    nan 16.232 16.115    nan 16.282\n",
      " 16.277 16.284    nan 16.268 16.26  16.267 16.081 16.271 16.272    nan\n",
      "    nan    nan 16.314 16.281    nan 16.31  16.284    nan    nan 16.458\n",
      " 16.284    nan 16.312    nan 16.278 16.319    nan    nan    nan    nan\n",
      " 16.311    nan 16.314 16.312 16.307 16.337 16.196 16.298    nan    nan\n",
      " 16.2   16.18  16.288    nan 16.302 16.334 16.338    nan    nan 16.336\n",
      " 16.336 16.345    nan 16.323    nan 16.374 16.347 16.346    nan    nan\n",
      "    nan    nan    nan    nan    nan 16.389 16.388    nan    nan    nan\n",
      "    nan 16.4   16.403    nan    nan 16.372    nan    nan 16.366    nan\n",
      "    nan    nan 16.426    nan    nan 16.423 16.381 16.42     nan 16.35\n",
      " 16.402    nan    nan 16.362    nan 16.421 16.455    nan 16.404    nan\n",
      "    nan    nan 16.418 16.456 16.467    nan 16.411    nan 16.439 16.41\n",
      " 16.438 16.434 16.585 16.589 16.592 16.586 16.61  16.581    nan 16.611\n",
      " 16.608 16.634    nan 16.605 16.62  16.582    nan    nan 16.6   16.463\n",
      " 16.581    nan 16.546 16.59  16.578    nan 16.559    nan 16.612 16.571\n",
      " 16.584    nan 16.611 16.641 16.623    nan 16.596 16.619 16.571 16.622\n",
      " 16.606    nan 16.607 16.632 16.595 16.632 16.67     nan 16.644    nan\n",
      " 16.622 16.618 16.633 16.452    nan 16.61     nan 16.613 16.598 16.62\n",
      " 16.725    nan 16.655 16.605 16.638 16.633 16.601 16.608 16.58  16.614\n",
      " 16.654 16.669 16.64     nan    nan    nan 16.655 16.588 16.595 16.484\n",
      " 16.646 16.693    nan 16.655 16.616 16.369 16.563 16.629 16.612 16.573\n",
      "    nan    nan    nan 16.708 16.657 16.72  16.619 16.664    nan 16.63\n",
      " 16.674 16.648 16.604    nan    nan 16.572 16.63  16.654 16.643 16.636\n",
      "    nan 16.653 16.615 16.612 16.635    nan 16.656 16.66     nan    nan\n",
      "    nan]\n"
     ]
    }
   ],
   "source": [
    "ids2.index(6108.0)\n",
    "print(mag2[3622])"
   ]
  },
  {
   "cell_type": "code",
   "execution_count": 15,
   "id": "e5d28232",
   "metadata": {},
   "outputs": [],
   "source": [
    "with open(\"mag_2.pickle\", \"wb\") as f:\n",
    "    pickle.dump(mag2, f)\n",
    "with open(\"merr_2.pickle\", \"wb\") as f:\n",
    "    pickle.dump(merr2, f)\n",
    "with open(\"ids_2.pickle\", \"wb\") as f:\n",
    "    pickle.dump(ids2, f)\n",
    "with open(\"time_2.pickle\", \"wb\") as f:\n",
    "    pickle.dump(time2, f)\n",
    "with open(\"prom_2.pickle\", \"wb\") as f:\n",
    "    pickle.dump(prom2, f)\n",
    "with open(\"desv_2.pickle\", \"wb\") as f:\n",
    "    pickle.dump(desv2, f)"
   ]
  },
  {
   "cell_type": "code",
   "execution_count": 37,
   "id": "6e9d8b80",
   "metadata": {},
   "outputs": [],
   "source": [
    "with open(\"mag_2.pickle\", \"rb\") as f:\n",
    "    mag2 = pickle.load(f)\n",
    "with open(\"merr_2.pickle\", \"rb\") as f:\n",
    "    merr2 = pickle.load(f)\n",
    "with open(\"ids_2.pickle\", \"rb\") as f:\n",
    "    ids2 = pickle.load(f)\n",
    "with open(\"time_2.pickle\", \"rb\") as f:\n",
    "    time2 = pickle.load(f)\n",
    "with open(\"prom_2.pickle\", \"rb\") as f:\n",
    "    prom2 = pickle.load(f)\n",
    "with open(\"desv_2.pickle\", \"rb\") as f:\n",
    "    desv2 = pickle.load(f)"
   ]
  },
  {
   "cell_type": "code",
   "execution_count": 38,
   "id": "3c920dfd",
   "metadata": {},
   "outputs": [],
   "source": [
    "def func(x, a, b, c, d):\n",
    "    return a*x**3 + b*x**2 + c*x + d\n",
    "popt, pcov = curve_fit(func, prom2, desv2)\n",
    "a, b, c, d = popt"
   ]
  },
  {
   "cell_type": "code",
   "execution_count": 39,
   "id": "090cbbb8",
   "metadata": {},
   "outputs": [],
   "source": [
    "fit = 1.2*func(np.array(prom2), a, b, c, d)"
   ]
  },
  {
   "cell_type": "code",
   "execution_count": 114,
   "id": "e9e7acb8",
   "metadata": {},
   "outputs": [
    {
     "data": {
      "text/plain": [
       "Text(0, 0.5, '$\\\\sigma_{promV}$')"
      ]
     },
     "execution_count": 114,
     "metadata": {},
     "output_type": "execute_result"
    },
    {
     "data": {
      "image/png": "[encoded data removed]",
      "text/plain": [
       "<Figure size 640x480 with 1 Axes>"
      ]
     },
     "metadata": {},
     "output_type": "display_data"
    }
   ],
   "source": [
    "plt.scatter(prom2, desv2, s=1, c='k')\n",
    "plt.scatter(prom2,1.2*func(np.array(prom2), a, b, c, d), s=0.8, c='r', label=r'fit: $0.001x^3 - 0.03x^2 + 0.4x-2.1$')\n",
    "plt.legend()\n",
    "plt.xlabel(r'Mean(V)[mag]')\n",
    "plt.ylabel(r'$\\sigma_{promV}$')"
   ]
  },
  {
   "cell_type": "code",
   "execution_count": 40,
   "id": "7541fc4a",
   "metadata": {},
   "outputs": [],
   "source": [
    "def filtrarfit(fit, mag, merr, ids, prom, desv, time):\n",
    "    magt = []\n",
    "    merrt = []\n",
    "    idst = []\n",
    "    promt = []\n",
    "    desvt = []\n",
    "    timet = []\n",
    "    for i in tqdm(range(len(prom))):\n",
    "        if (desv[i] > fit[i]):\n",
    "            magt.append(mag[i])\n",
    "            merrt.append(merr[i])\n",
    "            idst.append(ids[i])\n",
    "            promt.append(prom[i])\n",
    "            desvt.append(desv[i])\n",
    "            timet.append(time[i])\n",
    "            \n",
    "        \n",
    "    return magt, merrt, idst, promt, desvt, timet    "
   ]
  },
  {
   "cell_type": "code",
   "execution_count": 41,
   "id": "b8dcfa1c",
   "metadata": {},
   "outputs": [
    {
     "name": "stderr",
     "output_type": "stream",
     "text": [
      "100%|███████████████████████████████████| 8422/8422 [00:00<00:00, 169190.45it/s]\n"
     ]
    }
   ],
   "source": [
    "mag3, merr3, ids3, prom3, desv3, time3 = filtrarfit(fit, mag2, merr2, ids2, prom2, desv2, time2) "
   ]
  },
  {
   "cell_type": "code",
   "execution_count": 133,
   "id": "87467b03",
   "metadata": {},
   "outputs": [
    {
     "data": {
      "text/plain": [
       "Text(0, 0.5, '$\\\\sigma_{promV}$')"
      ]
     },
     "execution_count": 133,
     "metadata": {},
     "output_type": "execute_result"
    },
    {
     "data": {
      "image/png": "[encoded data removed]",
      "text/plain": [
       "<Figure size 640x480 with 1 Axes>"
      ]
     },
     "metadata": {},
     "output_type": "display_data"
    }
   ],
   "source": [
    "plt.scatter(prom2, desv2, s=1, c='k')\n",
    "plt.scatter(prom2,1.2*func(np.array(prom2), a, b, c, d), s=0.6, c='r')\n",
    "plt.scatter(prom3, desv3, s=1, c='b')\n",
    "plt.xlabel(r'Mean(V)[mag]')\n",
    "plt.ylabel(r'$\\sigma_{promV}$')"
   ]
  },
  {
   "cell_type": "code",
   "execution_count": 42,
   "id": "56ae4510",
   "metadata": {},
   "outputs": [],
   "source": [
    "with open(\"mag_3.pickle\", \"wb\") as f:\n",
    "    pickle.dump(mag3, f)\n",
    "with open(\"merr_3.pickle\", \"wb\") as f:\n",
    "    pickle.dump(merr3, f)\n",
    "with open(\"ids_3.pickle\", \"wb\") as f:\n",
    "    pickle.dump(ids3, f)\n",
    "with open(\"time_3.pickle\", \"wb\") as f:\n",
    "    pickle.dump(time3, f)\n",
    "with open(\"prom_3.pickle\", \"wb\") as f:\n",
    "    pickle.dump(prom3, f)\n",
    "with open(\"desv_3.pickle\", \"wb\") as f:\n",
    "    pickle.dump(desv3, f)"
   ]
  },
  {
   "cell_type": "code",
   "execution_count": 43,
   "id": "7b23d287",
   "metadata": {},
   "outputs": [],
   "source": [
    "with open(\"mag_3.pickle\", \"rb\") as f:\n",
    "    mag3 = pickle.load(f)\n",
    "with open(\"merr_3.pickle\", \"rb\") as f:\n",
    "    merr3 = pickle.load(f)\n",
    "with open(\"ids_3.pickle\", \"rb\") as f:\n",
    "    ids3 = pickle.load(f)\n",
    "with open(\"time_3.pickle\", \"rb\") as f:\n",
    "    time3 = pickle.load(f)\n",
    "with open(\"prom_3.pickle\", \"rb\") as f:\n",
    "    prom3 = pickle.load(f)\n",
    "with open(\"desv_3.pickle\", \"rb\") as f:\n",
    "    desv3 = pickle.load(f)"
   ]
  },
  {
   "cell_type": "code",
   "execution_count": 47,
   "id": "51bce7b1",
   "metadata": {},
   "outputs": [
    {
     "data": {
      "text/plain": [
       "array([16.571, 16.479, 16.501, 16.408, 16.507, 16.57 , 16.502,    nan,\n",
       "          nan, 16.531,    nan,    nan,    nan, 16.534, 16.54 , 16.521,\n",
       "       16.438, 16.398,    nan, 16.531, 16.488,    nan,    nan, 16.528,\n",
       "       16.519, 16.412,    nan, 16.523, 16.496, 16.544, 16.519, 16.408,\n",
       "          nan, 16.593, 16.537, 16.491, 16.52 , 16.506, 16.544, 16.493,\n",
       "          nan, 16.479, 16.479, 16.48 , 16.508, 16.483, 16.492, 16.501,\n",
       "       16.499, 16.546,    nan,    nan, 16.569, 16.473, 16.578,    nan,\n",
       "          nan, 16.577, 16.425, 16.501, 16.45 ,    nan, 16.522, 16.496,\n",
       "       16.519, 16.616, 16.705, 16.543, 16.542, 16.539, 16.525,    nan,\n",
       "       16.468, 16.547, 16.507,    nan,    nan, 16.566,    nan,    nan,\n",
       "          nan,    nan, 16.547, 16.516,    nan, 16.524,    nan, 16.563,\n",
       "       16.523,    nan,    nan, 16.451, 16.505, 16.502, 16.543, 16.578,\n",
       "       16.854,    nan, 16.572,    nan, 16.539,    nan, 16.494, 16.582,\n",
       "       16.495, 16.498,    nan, 16.561, 16.491,    nan, 16.5  , 16.517,\n",
       "       16.543, 16.507, 16.487, 16.516, 16.513, 16.448,    nan, 16.505,\n",
       "       16.527,    nan, 16.455,    nan,    nan, 16.492, 16.589, 16.533,\n",
       "       16.433, 16.473,    nan, 16.539, 16.523, 16.516, 16.566, 16.523,\n",
       "       16.535, 16.542, 16.51 ,    nan,    nan, 16.551, 16.521, 16.574,\n",
       "       16.521, 16.565, 16.548, 16.555, 16.572, 16.545,    nan, 16.537,\n",
       "       16.525, 16.506, 16.591, 16.561, 16.567, 16.483, 16.582, 16.498,\n",
       "       16.564, 16.574, 16.564, 16.519, 16.533, 16.542, 16.56 , 16.639,\n",
       "       16.571, 16.571, 16.551, 16.545, 16.527,    nan, 16.526, 16.551,\n",
       "          nan, 16.514, 16.496, 16.536, 16.539,    nan, 16.525, 16.513,\n",
       "       16.56 , 16.513, 16.552, 16.491,    nan, 16.412, 16.521, 16.555,\n",
       "          nan, 16.498, 16.522, 16.491, 16.504, 16.511, 16.489, 16.487,\n",
       "       16.521, 16.495,    nan, 16.375, 16.523, 16.527, 16.515,    nan,\n",
       "       16.539, 16.526, 16.474, 16.452,    nan, 16.475, 16.476, 16.455,\n",
       "       16.478, 16.673,    nan, 16.452,    nan, 16.45 , 16.465, 16.463,\n",
       "          nan,    nan,    nan, 16.448, 16.482,    nan, 16.475, 16.437,\n",
       "       16.425, 16.425, 16.427, 16.44 , 16.382, 16.402, 16.432, 16.375,\n",
       "       16.395, 16.293, 16.352, 16.373, 16.374,    nan, 16.351,    nan,\n",
       "       16.373, 16.28 , 16.342,    nan, 16.376, 16.333, 16.313, 16.202,\n",
       "       16.332, 16.37 , 16.327, 16.281,    nan,    nan, 16.213, 16.232,\n",
       "       16.251, 16.23 , 16.115, 16.175, 16.254, 16.168, 16.2  ,    nan,\n",
       "       16.219,    nan, 16.301, 16.185, 16.21 , 16.184,    nan, 16.42 ,\n",
       "       16.167, 16.061,    nan, 16.131, 16.124,    nan, 16.132, 16.096,\n",
       "          nan, 16.135,    nan, 16.159, 16.077, 16.065, 16.059,    nan,\n",
       "       16.02 ,    nan, 16.009, 16.046, 16.038, 16.127, 16.067, 15.98 ,\n",
       "       15.962, 16.098, 15.986, 16.023,    nan,    nan,    nan,    nan,\n",
       "       15.962, 15.922, 15.921, 15.91 , 15.97 , 15.892,    nan, 16.069,\n",
       "          nan,    nan, 15.899, 15.861,    nan,    nan, 15.878, 15.903,\n",
       "       15.866, 15.932,    nan,    nan, 15.83 , 15.793,    nan, 15.801,\n",
       "          nan,    nan, 16.134, 16.101,    nan,    nan, 16.107,    nan,\n",
       "          nan, 16.149, 16.155,    nan, 16.   ,    nan, 16.173, 16.158,\n",
       "       16.135, 16.188, 16.589,    nan, 16.161, 16.179, 16.12 ,    nan,\n",
       "       16.235,    nan, 16.141,    nan, 16.119,    nan,    nan, 16.195,\n",
       "       16.066,    nan,    nan, 16.174, 16.243, 16.22 , 16.146,    nan,\n",
       "       16.203,    nan, 16.224, 16.213, 16.21 , 16.37 , 16.112,    nan,\n",
       "       16.22 , 16.182,    nan,    nan, 16.223,    nan, 16.215, 16.226,\n",
       "       16.239, 16.216, 16.207, 16.232, 16.226, 16.22 ,    nan, 16.249,\n",
       "       16.243, 16.245, 16.241,    nan, 16.266, 16.189,    nan,    nan,\n",
       "       16.231,    nan,    nan, 16.257, 16.256,    nan, 16.245,    nan,\n",
       "          nan,    nan,    nan, 16.267,    nan, 16.192, 16.278,    nan,\n",
       "       16.271, 16.264, 16.274, 16.27 , 16.317, 16.298,    nan, 16.185,\n",
       "       16.265, 16.261,    nan, 16.298, 16.311, 16.31 , 16.294,    nan,\n",
       "       16.361, 16.315,    nan,    nan, 16.331,    nan, 16.315, 16.34 ,\n",
       "          nan, 16.241, 16.287, 16.359,    nan, 16.671,    nan, 16.684,\n",
       "       16.701,    nan, 16.676,    nan, 16.691, 16.667, 16.727, 16.744,\n",
       "       16.703,    nan, 16.725, 16.724, 16.734,    nan, 16.72 , 16.676,\n",
       "       16.7  , 16.533,    nan, 16.718, 16.714, 16.758, 16.77 , 16.698,\n",
       "       16.707, 16.747, 16.688, 16.758,    nan,    nan,    nan, 16.677,\n",
       "          nan, 16.688, 16.92 , 16.685, 16.734,    nan,    nan,    nan,\n",
       "       16.791, 16.736, 16.752,    nan,    nan,    nan,    nan,    nan,\n",
       "       16.576, 16.785, 16.904, 16.87 , 16.862,    nan,    nan, 16.888,\n",
       "       16.724, 16.674, 17.028, 17.035, 17.054,    nan,    nan,    nan,\n",
       "          nan,    nan,    nan,    nan,    nan,    nan,    nan, 16.679,\n",
       "          nan, 16.716, 16.659, 16.667, 16.663,    nan, 16.222, 16.078,\n",
       "       16.243, 16.223,    nan, 16.179, 16.245,    nan, 16.202,    nan,\n",
       "       16.211, 16.244, 16.202, 16.206, 16.235,    nan,    nan, 16.27 ,\n",
       "       16.229,    nan, 16.197,    nan, 16.198,    nan, 16.352,    nan,\n",
       "          nan,    nan, 16.252, 16.281, 16.208,    nan, 16.232, 16.115,\n",
       "          nan, 16.282, 16.277, 16.284,    nan, 16.268, 16.26 , 16.267,\n",
       "       16.081, 16.271, 16.272,    nan,    nan,    nan, 16.314, 16.281,\n",
       "          nan, 16.31 , 16.284,    nan,    nan, 16.458, 16.284,    nan,\n",
       "       16.312,    nan, 16.278, 16.319,    nan,    nan,    nan,    nan,\n",
       "       16.311,    nan, 16.314, 16.312, 16.307, 16.337, 16.196, 16.298,\n",
       "          nan,    nan, 16.2  , 16.18 , 16.288,    nan, 16.302, 16.334,\n",
       "       16.338,    nan,    nan, 16.336, 16.336, 16.345,    nan, 16.323,\n",
       "          nan, 16.374, 16.347, 16.346,    nan,    nan,    nan,    nan,\n",
       "          nan,    nan,    nan, 16.389, 16.388,    nan,    nan,    nan,\n",
       "          nan, 16.4  , 16.403,    nan,    nan, 16.372,    nan,    nan,\n",
       "       16.366,    nan,    nan,    nan, 16.426,    nan,    nan, 16.423,\n",
       "       16.381, 16.42 ,    nan, 16.35 , 16.402,    nan,    nan, 16.362,\n",
       "          nan, 16.421, 16.455,    nan, 16.404,    nan,    nan,    nan,\n",
       "       16.418, 16.456, 16.467,    nan, 16.411,    nan, 16.439, 16.41 ,\n",
       "       16.438, 16.434, 16.585, 16.589, 16.592, 16.586, 16.61 , 16.581,\n",
       "          nan, 16.611, 16.608, 16.634,    nan, 16.605, 16.62 , 16.582,\n",
       "          nan,    nan, 16.6  , 16.463, 16.581,    nan, 16.546, 16.59 ,\n",
       "       16.578,    nan, 16.559,    nan, 16.612, 16.571, 16.584,    nan,\n",
       "       16.611, 16.641, 16.623,    nan, 16.596, 16.619, 16.571, 16.622,\n",
       "       16.606,    nan, 16.607, 16.632, 16.595, 16.632, 16.67 ,    nan,\n",
       "       16.644,    nan, 16.622, 16.618, 16.633, 16.452,    nan, 16.61 ,\n",
       "          nan, 16.613, 16.598, 16.62 , 16.725,    nan, 16.655, 16.605,\n",
       "       16.638, 16.633, 16.601, 16.608, 16.58 , 16.614, 16.654, 16.669,\n",
       "       16.64 ,    nan,    nan,    nan, 16.655, 16.588, 16.595, 16.484,\n",
       "       16.646, 16.693,    nan, 16.655, 16.616, 16.369, 16.563, 16.629,\n",
       "       16.612, 16.573,    nan,    nan,    nan, 16.708, 16.657, 16.72 ,\n",
       "       16.619, 16.664,    nan, 16.63 , 16.674, 16.648, 16.604,    nan,\n",
       "          nan, 16.572, 16.63 , 16.654, 16.643, 16.636,    nan, 16.653,\n",
       "       16.615, 16.612, 16.635,    nan, 16.656, 16.66 ,    nan,    nan,\n",
       "          nan])"
      ]
     },
     "execution_count": 47,
     "metadata": {},
     "output_type": "execute_result"
    }
   ],
   "source": [
    "ids3.index(6108)\n",
    "mag3[141]"
   ]
  },
  {
   "cell_type": "code",
   "execution_count": null,
   "id": "4a8c2bd0",
   "metadata": {},
   "outputs": [],
   "source": [
    "def datasinnan(mag, merr, time):\n",
    "    magt = []\n",
    "    merrt = []\n",
    "    timet = []\n",
    "    for i in range(len(mag)):\n",
    "        if (np.isnan(mag[i]) == False) and (np.isnan(time[i]) == False):\n",
    "            timet.append(time[i])\n",
    "            magt.append(mag[i])\n",
    "            merrt.append(merr[i])\n",
    "           \n",
    "    return magt, merrt, timet"
   ]
  },
  {
   "cell_type": "code",
   "execution_count": null,
   "id": "53ca243b",
   "metadata": {},
   "outputs": [],
   "source": []
  },
  {
   "cell_type": "code",
   "execution_count": 8,
   "id": "177c909c",
   "metadata": {},
   "outputs": [
    {
     "name": "stderr",
     "output_type": "stream",
     "text": [
      "100%|████████████████████████████████████████| 388/388 [00:02<00:00, 154.07it/s]\n"
     ]
    }
   ],
   "source": [
    "time4 = []\n",
    "mag4 = []\n",
    "merr4 = []\n",
    "ids4 = ids3\n",
    "prom4 = prom3\n",
    "desv4= desv3\n",
    "\n",
    "for i in tqdm(range(len(mag3))):\n",
    "    magt, merrt, timet = datasinnan(mag3[i], merr3[i], time3[i])\n",
    "    time4.append(np.array(timet))\n",
    "    mag4.append(np.array(magt))\n",
    "    merr4.append(np.array(merrt))"
   ]
  },
  {
   "cell_type": "code",
   "execution_count": 9,
   "id": "ade6ce91",
   "metadata": {},
   "outputs": [],
   "source": [
    "with open(\"mag_4.pickle\", \"wb\") as f:\n",
    "    pickle.dump(mag4, f)\n",
    "with open(\"merr_4.pickle\", \"wb\") as f:\n",
    "    pickle.dump(merr4, f)\n",
    "with open(\"ids_4.pickle\", \"wb\") as f:\n",
    "    pickle.dump(ids4, f)\n",
    "with open(\"time_4.pickle\", \"wb\") as f:\n",
    "    pickle.dump(time4, f)\n",
    "with open(\"prom_4.pickle\", \"wb\") as f:\n",
    "    pickle.dump(prom4, f)\n",
    "with open(\"desv_4.pickle\", \"wb\") as f:\n",
    "    pickle.dump(desv4, f)"
   ]
  },
  {
   "cell_type": "code",
   "execution_count": 4,
   "id": "601e0ce8",
   "metadata": {},
   "outputs": [],
   "source": [
    "with open(\"mag_4.pickle\", \"rb\") as f:\n",
    "    mag4 = pickle.load(f)\n",
    "with open(\"merr_4.pickle\", \"rb\") as f:\n",
    "    merr4 = pickle.load(f)\n",
    "with open(\"ids_4.pickle\", \"rb\") as f:\n",
    "    ids4 = pickle.load(f)\n",
    "with open(\"time_4.pickle\", \"rb\") as f:\n",
    "    time4 = pickle.load(f)\n",
    "with open(\"prom_4.pickle\", \"rb\") as f:\n",
    "    prom4 = pickle.load(f)\n",
    "with open(\"desv_4.pickle\", \"rb\") as f:\n",
    "    desv4 = pickle.load(f)"
   ]
  },
  {
   "cell_type": "code",
   "execution_count": 13,
   "id": "0e685d4a",
   "metadata": {},
   "outputs": [
    {
     "name": "stderr",
     "output_type": "stream",
     "text": [
      "100%|█████████████████████████████████████████| 388/388 [01:28<00:00,  4.36it/s]\n"
     ]
    }
   ],
   "source": [
    "with PdfPages('magTdaoSet4.pdf') as pdf: \n",
    "    for i in tqdm(range(len(mag4))): \n",
    "        plt.scatter(time4[i], mag4[i], c='k', s=0.8) \n",
    "        plt.gca().invert_yaxis()\n",
    "        plt.xlabel('HJD')\n",
    "        plt.ylabel('V')\n",
    "        plt.title( f'ID_{ids4[i]}, i={i}') \n",
    "        pdf.savefig()\n",
    "        plt.close()"
   ]
  },
  {
   "cell_type": "code",
   "execution_count": 16,
   "id": "ee6d60ef",
   "metadata": {},
   "outputs": [],
   "source": [
    "#funciones para Lombscargle\n",
    "def darfase(T, t0, P):\n",
    "    f = np.zeros(len(T))\n",
    "    i = 0\n",
    "    for t in T:\n",
    "        if np.isnan(t)==True:\n",
    "            t = 0\n",
    "        a = (t - t0)/P\n",
    "        b = int((t - t0)/P)\n",
    "        f[i] = a-b\n",
    "        i+=1\n",
    "    return f\n",
    "\n",
    "def darfrec(t):\n",
    "    fmax = 1/(1.1/24)\n",
    "    fmin = 1/9.9\n",
    "    \n",
    "    return fmin, fmax\n",
    "\n",
    "def darDatos(t, t0, m, merr):\n",
    "    \n",
    "    fmin, fmax = darfrec(t)\n",
    "    \n",
    "    ls = LombScargle(t, m, merr)\n",
    "    f, pw = ls.autopower(minimum_frequency=fmin, maximum_frequency=fmax)\n",
    "    \n",
    "    s95 = ls.false_alarm_level(0.05)\n",
    "    s99 = ls.false_alarm_level(0.01)\n",
    "    pwarr = np.sort(pw)\n",
    "    pint = pwarr[-5:]\n",
    "    ub = np.where(np.isin(pw, pint))[0]\n",
    "    fmax = f[ub]\n",
    "    p = 1/fmax\n",
    "    Fase=[]\n",
    "    for i in range(len(p)):\n",
    "        Fase.append(darfase(t, 0, p[i]))\n",
    "    \n",
    "    return pw, f, Fase, p, s95, s99"
   ]
  },
  {
   "cell_type": "code",
   "execution_count": 17,
   "id": "409148c8",
   "metadata": {},
   "outputs": [
    {
     "name": "stderr",
     "output_type": "stream",
     "text": [
      "100%|█████████████████████████████████████████| 388/388 [00:22<00:00, 16.88it/s]\n"
     ]
    }
   ],
   "source": [
    "pw = []\n",
    "fases = []\n",
    "fre = []\n",
    "p = []\n",
    "s95 = []\n",
    "s99 = []\n",
    "\n",
    "for i in tqdm(range(len(mag4))):\n",
    "    pw1, fre1, fase1,  p1, s951, s991 = darDatos(time4[i], 0, mag4[i], merr4[i])\n",
    "    pw.append(pw1)\n",
    "    fases.append(fase1)\n",
    "    fre.append(fre1)\n",
    "    p.append(p1)\n",
    "    s95.append(s951)\n",
    "    s99.append(s991)   "
   ]
  },
  {
   "cell_type": "code",
   "execution_count": 18,
   "id": "308c56f9",
   "metadata": {},
   "outputs": [],
   "source": [
    "with open(\"pw.pickle\", \"wb\") as f:\n",
    "    pickle.dump(pw, f)\n",
    "with open(\"fases.pickle\", \"wb\") as f:\n",
    "    pickle.dump(fases, f)\n",
    "with open(\"fre.pickle\", \"wb\") as f:\n",
    "    pickle.dump(fre, f)\n",
    "with open(\"period.pickle\", \"wb\") as f:\n",
    "    pickle.dump(p, f)\n",
    "with open(\"sig95.pickle\", \"wb\") as f:\n",
    "    pickle.dump(s95, f)\n",
    "with open(\"sig99.pickle\", \"wb\") as f:\n",
    "    pickle.dump(s99, f)"
   ]
  },
  {
   "cell_type": "code",
   "execution_count": 5,
   "id": "9b47e0b6",
   "metadata": {},
   "outputs": [],
   "source": [
    "with open(\"pw.pickle\", \"rb\") as f:\n",
    "    pw = pickle.load(f)\n",
    "with open(\"fases.pickle\", \"rb\") as f:\n",
    "    fases = pickle.load(f)\n",
    "with open(\"fre.pickle\", \"rb\") as f:\n",
    "    fre = pickle.load(f)\n",
    "with open(\"period.pickle\", \"rb\") as f:\n",
    "    p = pickle.load(f)\n",
    "with open(\"sig95.pickle\", \"rb\") as f:\n",
    "    s95 = pickle.load(f)\n",
    "with open(\"sig99.pickle\", \"rb\") as f:\n",
    "    s99 = pickle.load(f)"
   ]
  },
  {
   "cell_type": "code",
   "execution_count": null,
   "id": "545f8b87",
   "metadata": {},
   "outputs": [],
   "source": [
    "with PdfPages('curvasDao.pdf') as pdf: \n",
    "    for i in tqdm(range(len(mag4))):\n",
    "        for j in range(len(fases[i])):\n",
    "            for k in [-1, 0, 1]:\n",
    "                plt.scatter(fases[i][j]+k, mag4[i], marker = \".\", color = \"darkred\")\n",
    "                \n",
    "            plt.gca().invert_yaxis()\n",
    "            plt.xlabel('Fase')\n",
    "            plt.ylabel('V') \n",
    "            plt.title( f'ID_{ids4[i]}, i={i}, Periodo = {round(p[i][j], 3)}[d]') \n",
    "            pdf.savefig()\n",
    "            plt.close()"
   ]
  },
  {
   "cell_type": "code",
   "execution_count": null,
   "id": "e01dba1b",
   "metadata": {},
   "outputs": [
    {
     "name": "stderr",
     "output_type": "stream",
     "text": [
      " 77%|███████████████████████████████▍         | 297/388 [10:31<04:12,  2.78s/it]"
     ]
    }
   ],
   "source": [
    "with PdfPages('CurvasDao.pdf') as pdf:\n",
    "    for i in tqdm(range(len(mag4))):\n",
    "        fig, axs = plt.subplots(2, 3, figsize=(10,6))\n",
    "        \n",
    "        axs[0, 0].plot(fre[i], pw[i], c='k', linewidth=0.5)\n",
    "        axs[0, 0].set_title( f'ID_{ids4[i]}, i={i}')\n",
    "        axs[0, 0].set_xlabel('Frequency')\n",
    "        axs[0, 0].set_ylabel('Power')\n",
    "        axs[0, 0].axhline(s95[i], color='r', linestyle='--', label='FAL = 0.05')\n",
    "        axs[0, 0].axhline(s99[i], color='b', linestyle='--',  label='FAL = 0.01')\n",
    "        axs[0, 0].legend()\n",
    "        \n",
    "        for j, periodo in enumerate(p[i]):\n",
    "            if j<2:\n",
    "                for k in [-1, 0, 1]:\n",
    "                    axs[0, j+1].scatter(fases[i][j]+k, mag4[i], s=1, c=\"darkred\")\n",
    "                axs[0, j+1].invert_yaxis()\n",
    "                axs[0, j+1].set_xlabel('Fase')\n",
    "                axs[0, j+1].set_ylabel('V')\n",
    "                axs[0, j+1].set_title(f'Periodo={round(p[i][j], 3)}[d]')\n",
    "            else:\n",
    "                for k in [-1, 0, 1]:\n",
    "                    axs[1, j-2].scatter(fases[i][j]+k, mag4[i], s=1, c=\"darkred\")\n",
    "                axs[1, j-2].invert_yaxis()\n",
    "                axs[1, j-2].set_xlabel('Fase')\n",
    "                axs[1, j-2].set_ylabel('V')\n",
    "                axs[1, j-2].set_title(f'Periodo={round(p[i][j], 3)}[d]')\n",
    "        \n",
    "        plt.tight_layout()\n",
    "        pdf.savefig()\n",
    "        plt.close()\n",
    "            "
   ]
  },
  {
   "cell_type": "code",
   "execution_count": 7,
   "id": "914f0027",
   "metadata": {},
   "outputs": [
    {
     "data": {
      "text/plain": [
       "array([0.4471105 , 0.31839078, 0.30900308, 0.24152112, 0.23608047])"
      ]
     },
     "execution_count": 7,
     "metadata": {},
     "output_type": "execute_result"
    }
   ],
   "source": [
    "p[0]"
   ]
  },
  {
   "cell_type": "code",
   "execution_count": null,
   "id": "212ed3dc",
   "metadata": {},
   "outputs": [],
   "source": []
  }
 ],
 "metadata": {
  "kernelspec": {
   "display_name": "Python 3 (ipykernel)",
   "language": "python",
   "name": "python3"
  },
  "language_info": {
   "codemirror_mode": {
    "name": "ipython",
    "version": 3
   },
   "file_extension": ".py",
   "mimetype": "text/x-python",
   "name": "python",
   "nbconvert_exporter": "python",
   "pygments_lexer": "ipython3",
   "version": "3.11.5"
  }
 },
 "nbformat": 4,
 "nbformat_minor": 5
}
