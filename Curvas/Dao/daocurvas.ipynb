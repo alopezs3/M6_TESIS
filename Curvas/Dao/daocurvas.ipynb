{
 "cells": [
  {
   "cell_type": "code",
   "execution_count": 3,
   "id": "51c6cf32",
   "metadata": {},
   "outputs": [
    {
     "name": "stderr",
     "output_type": "stream",
     "text": [
      "C:\\Users\\ThinkPad\\AppData\\Roaming\\Python\\Python39\\site-packages\\matplotlib\\projections\\__init__.py:63: UserWarning: Unable to import Axes3D. This may be due to multiple versions of Matplotlib being installed (e.g. as a system package and as a pip package). As a result, the 3D projection is not available.\n",
      "  warnings.warn(\"Unable to import Axes3D. This may be due to multiple versions of \"\n"
     ]
    }
   ],
   "source": [
    "import numpy as np\n",
    "import matplotlib.pyplot as plt\n",
    "import pandas as pd\n",
    "from tqdm import tqdm\n",
    "import pickle\n",
    "from scipy.optimize import curve_fit\n",
    "from matplotlib.backends.backend_pdf import PdfPages\n",
    "from scipy.signal import lombscargle as lbsc\n",
    "from astropy.timeseries import LombScargle"
   ]
  },
  {
   "cell_type": "code",
   "execution_count": 4,
   "id": "150fc11e",
   "metadata": {},
   "outputs": [],
   "source": [
    "with open('time.dat', 'r') as file:\n",
    "    lineas = file.readlines()\n",
    "time = np.zeros(len(lineas))\n",
    "for i in range(len(lineas)):\n",
    "    time[i] = float(lineas[i].strip())"
   ]
  },
  {
   "cell_type": "code",
   "execution_count": 5,
   "id": "ee0ef45f",
   "metadata": {},
   "outputs": [
    {
     "name": "stderr",
     "output_type": "stream",
     "text": [
      "578016it [00:03, 167151.81it/s]\n"
     ]
    }
   ],
   "source": [
    "#Abre el archivo master.raw (el primero de cuatro) y luego los divide en listas de estrellas\n",
    "with open('master.raw', 'r') as file:\n",
    "    # Lee todas las líneas del archivo\n",
    "    lines = file.readlines()\n",
    "match1 = []\n",
    "valores = []\n",
    "for i, line in tqdm(enumerate(lines)):\n",
    "    # Usa split para dividir la línea en palabras\n",
    "    valores.extend([float(word) for word in line.split()])\n",
    "    # Verifica si ha leído 36 líneas\n",
    "    if (i + 1) % 36 == 0:\n",
    "        del valores[-2:]\n",
    "        match1.append(valores)\n",
    "        valores = []"
   ]
  },
  {
   "cell_type": "code",
   "execution_count": 6,
   "id": "29f9da28",
   "metadata": {},
   "outputs": [
    {
     "name": "stderr",
     "output_type": "stream",
     "text": [
      "479304it [00:02, 166803.12it/s]\n"
     ]
    }
   ],
   "source": [
    "with open('master2.raw', 'r') as file:\n",
    "    # Lee todas las líneas del archivo\n",
    "    lines = file.readlines()\n",
    "match2 = []\n",
    "valores = []\n",
    "for i, line in tqdm(enumerate(lines)):\n",
    "    # Usa split para dividir la línea en palabras\n",
    "    valores.extend([float(word) for word in line.split()])\n",
    "\n",
    "    # Verifica si hemos leído 36 líneas\n",
    "    if (i + 1) % 36 == 0:\n",
    "        del valores[-2:]\n",
    "        del valores[3:5]\n",
    "        # Imprime la lista de palabras para esta iteración\n",
    "        # Reinicia la lista de palabras para la próxima iteración\n",
    "        match2.append(valores)\n",
    "        valores = []"
   ]
  },
  {
   "cell_type": "code",
   "execution_count": 7,
   "id": "75e88228",
   "metadata": {},
   "outputs": [
    {
     "name": "stderr",
     "output_type": "stream",
     "text": [
      "433620it [00:03, 142371.77it/s]\n"
     ]
    }
   ],
   "source": [
    "with open('master3.raw', 'r') as file:\n",
    "    # Lee todas las líneas del archivo\n",
    "    lines = file.readlines()\n",
    "match3 = []\n",
    "valores = []\n",
    "for i, line in tqdm(enumerate(lines)):\n",
    "    # Usa split para dividir la línea en palabras\n",
    "    valores.extend([float(word) for word in line.split()])\n",
    "\n",
    "    # Verifica si hemos leído 36 líneas\n",
    "    if (i + 1) % 36 == 0:\n",
    "        del valores[-2:]\n",
    "        del valores[3:5]\n",
    "        # Imprime la lista de palabras para esta iteración\n",
    "        # Reinicia la lista de palabras para la próxima iteración\n",
    "        match3.append(valores)\n",
    "        valores = []"
   ]
  },
  {
   "cell_type": "code",
   "execution_count": 8,
   "id": "065bffcd",
   "metadata": {},
   "outputs": [
    {
     "name": "stderr",
     "output_type": "stream",
     "text": [
      "349428it [00:02, 156785.88it/s]\n"
     ]
    }
   ],
   "source": [
    "with open('master4.raw', 'r') as file:\n",
    "    # Lee todas las líneas del archivo\n",
    "    lines = file.readlines()\n",
    "match4 = []\n",
    "valores = []\n",
    "for i, line in tqdm(enumerate(lines)):\n",
    "    # Usa split para dividir la línea en palabras\n",
    "    valores.extend([float(word) for word in line.split()])\n",
    "\n",
    "    # Verifica si hemos leído 36 líneas\n",
    "    if (i + 1) % 37 == 0:\n",
    "        del valores[-2:]\n",
    "        del valores[3:5]\n",
    "        # Imprime la lista de palabras para esta iteración\n",
    "        # Reinicia la lista de palabras para la próxima iteración\n",
    "        match4.append(valores)\n",
    "        valores = []"
   ]
  },
  {
   "cell_type": "code",
   "execution_count": 9,
   "id": "29fdffbe",
   "metadata": {},
   "outputs": [
    {
     "name": "stderr",
     "output_type": "stream",
     "text": [
      "100%|██████████| 16056/16056 [01:04<00:00, 247.85it/s]\n",
      "100%|██████████| 12020/12020 [00:49<00:00, 243.42it/s]\n",
      "100%|██████████| 10565/10565 [00:33<00:00, 312.78it/s]\n"
     ]
    }
   ],
   "source": [
    "#Función para unir los 4 archivos\n",
    "def unir(mch1, mch2):\n",
    "    mch3 = []\n",
    "    for i in tqdm(range(len(mch1))):\n",
    "        if mch1[i][0] < 200000:\n",
    "            for j in range(len(mch2)):\n",
    "                if mch1[i][0] == mch2[j][0]:\n",
    "                    mch3.append(mch1[i] + mch2[j][3:])\n",
    "    return mch3\n",
    "mch1 = unir(match1, match2)\n",
    "mch2 = unir(mch1, match3)\n",
    "master = unir(mch2, match4)"
   ]
  },
  {
   "cell_type": "code",
   "execution_count": 10,
   "id": "6644f8fc",
   "metadata": {},
   "outputs": [],
   "source": [
    "#guarda la lista como un objeto .pickle\n",
    "with open(\"master.pickle\", \"wb\") as f:\n",
    "    pickle.dump(master, f)"
   ]
  },
  {
   "cell_type": "code",
   "execution_count": 30,
   "id": "cbab9cd5",
   "metadata": {},
   "outputs": [],
   "source": [
    "with open(\"master.pickle\", \"rb\") as f:\n",
    "    master = pickle.load(f)"
   ]
  },
  {
   "cell_type": "code",
   "execution_count": 31,
   "id": "026f4f41",
   "metadata": {},
   "outputs": [
    {
     "name": "stderr",
     "output_type": "stream",
     "text": [
      "100%|██████████| 8618/8618 [00:00<00:00, 326957.97it/s]\n"
     ]
    }
   ],
   "source": [
    "#obtiene los ids de acuerdo a la imagen máster\n",
    "ids = []\n",
    "xcoo = []\n",
    "ycoo = []\n",
    "for i in tqdm(range(len(master))):\n",
    "    ids.append(master[i][0])\n",
    "    xcoo.append(master[i][1])\n",
    "    ycoo.append(master[i][2])"
   ]
  },
  {
   "cell_type": "code",
   "execution_count": 32,
   "id": "07bfd702",
   "metadata": {},
   "outputs": [
    {
     "name": "stderr",
     "output_type": "stream",
     "text": [
      "100%|██████████| 8618/8618 [00:04<00:00, 1972.05it/s]\n"
     ]
    }
   ],
   "source": [
    "#Divide entre magnitudes y errores para cada lista.\n",
    "def getmag(master):\n",
    "    mag = []\n",
    "    merr = []\n",
    "    for i in tqdm(range(len(master))):\n",
    "        mast = master[i][3:]\n",
    "        mag2 = []\n",
    "        merr2 = []\n",
    "        \n",
    "        for j in range(len(mast)):\n",
    "            if (j+2)%2==0:\n",
    "                mag2.append(mast[j])\n",
    "            else:\n",
    "                merr2.append(mast[j])\n",
    "        mag.append(np.array(mag2))\n",
    "        merr.append(np.array(merr2))\n",
    "    return mag, merr\n",
    "mag, merr = getmag(master)"
   ]
  },
  {
   "cell_type": "code",
   "execution_count": 33,
   "id": "fbc5a027",
   "metadata": {},
   "outputs": [
    {
     "name": "stderr",
     "output_type": "stream",
     "text": [
      "100%|██████████| 8618/8618 [00:00<00:00, 55115.34it/s]\n"
     ]
    }
   ],
   "source": [
    "for i in tqdm(range(len(mag))):\n",
    "    mag[i][mag[i]==99.9999] = np.nan\n",
    "    merr[i][merr[i]==9.9999] = np.nan"
   ]
  },
  {
   "cell_type": "code",
   "execution_count": 34,
   "id": "b15ed076",
   "metadata": {},
   "outputs": [],
   "source": [
    "with open(\"magMaster.pickle\", \"wb\") as f:\n",
    "    pickle.dump(mag, f)\n",
    "with open(\"merrMaster.pickle\", \"wb\") as f:\n",
    "    pickle.dump(master, f)"
   ]
  },
  {
   "cell_type": "code",
   "execution_count": 9,
   "id": "33d69c1a",
   "metadata": {},
   "outputs": [],
   "source": [
    "with open(\"magMaster.pickle\", \"rb\") as f:\n",
    "    mag = pickle.load(f)\n",
    "with open(\"merrMaster.pickle\", \"rb\") as f:\n",
    "    merr = pickle.load(f)"
   ]
  },
  {
   "cell_type": "code",
   "execution_count": 16,
   "id": "b2d121e1",
   "metadata": {},
   "outputs": [
    {
     "data": {
      "text/plain": [
       "87.764"
      ]
     },
     "execution_count": 16,
     "metadata": {},
     "output_type": "execute_result"
    }
   ],
   "source": []
  },
  {
   "cell_type": "code",
   "execution_count": 13,
   "id": "dc9141d3",
   "metadata": {},
   "outputs": [
    {
     "data": {
      "text/plain": [
       "0.20753657862999558"
      ]
     },
     "execution_count": 13,
     "metadata": {},
     "output_type": "execute_result"
    }
   ],
   "source": [
    "np.nanstd(mag[1000])"
   ]
  },
  {
   "cell_type": "code",
   "execution_count": 35,
   "id": "5db8ba00",
   "metadata": {},
   "outputs": [
    {
     "name": "stderr",
     "output_type": "stream",
     "text": [
      "100%|██████████| 8618/8618 [06:19<00:00, 22.70it/s]\n"
     ]
    }
   ],
   "source": [
    "magt = []\n",
    "merrt = []\n",
    "idt = []\n",
    "xcoot = []\n",
    "ycoot = []\n",
    "for i in tqdm(range(len(mag))):\n",
    "    len_sin_nan = np.count_nonzero(~np.isnan(mag))\n",
    "    if len_sin_nan >= 63:\n",
    "        magt.append(mag[i])\n",
    "        merrt.append(merr[i])\n",
    "        idt.append(ids[i])\n",
    "        xcoot.append(xcoo[i])\n",
    "        ycoot.append(ycoo[i])"
   ]
  },
  {
   "cell_type": "code",
   "execution_count": 36,
   "id": "8188883f",
   "metadata": {},
   "outputs": [],
   "source": [
    "with open(\"magMT.pickle\", \"wb\") as f:\n",
    "    pickle.dump(magt, f)\n",
    "with open(\"merrMT.pickle\", \"wb\") as f:\n",
    "    pickle.dump(merrt, f)\n",
    "with open(\"idMT.pickle\", \"wb\") as f:\n",
    "    pickle.dump(idt, f)\n",
    "with open(\"xcooMT.pickle\", \"wb\") as f:\n",
    "    pickle.dump(xcoot, f)\n",
    "with open(\"ycooMT.pickle\", \"wb\") as f:\n",
    "    pickle.dump(ycoot, f)"
   ]
  },
  {
   "cell_type": "code",
   "execution_count": 37,
   "id": "595177b0",
   "metadata": {},
   "outputs": [],
   "source": [
    "with open(\"magMT.pickle\", \"rb\") as f:\n",
    "    mag = pickle.load(f)\n",
    "with open(\"merrMT.pickle\", \"rb\") as f:\n",
    "    merr = pickle.load(f)\n",
    "with open(\"idMT.pickle\", \"rb\") as f:\n",
    "    ids = pickle.load(f)\n",
    "with open(\"xcooMT.pickle\", \"rb\") as f:\n",
    "    xcoo = pickle.load(f)\n",
    "with open(\"ycooMT.pickle\", \"rb\") as f:\n",
    "    ycoo = pickle.load(f)"
   ]
  },
  {
   "cell_type": "code",
   "execution_count": 38,
   "id": "e29bdb72",
   "metadata": {},
   "outputs": [
    {
     "name": "stdout",
     "output_type": "stream",
     "text": [
      "9450.0 19.297 0.065 2614.866 3048.896\n"
     ]
    }
   ],
   "source": [
    "print(ids[5702], mag[5702][100], merr[5702][100], xcoo[5702], ycoo[5702])"
   ]
  },
  {
   "cell_type": "code",
   "execution_count": 39,
   "id": "c8c75d01",
   "metadata": {},
   "outputs": [
    {
     "name": "stderr",
     "output_type": "stream",
     "text": [
      "100%|██████████| 8618/8618 [00:01<00:00, 6447.16it/s]\n"
     ]
    }
   ],
   "source": [
    "desv = []\n",
    "prom = []\n",
    "for i in tqdm(range(len(mag))):\n",
    "    prom.append(np.nanmean(mag[i]))\n",
    "    desv.append(np.nanstd(mag[i]))"
   ]
  },
  {
   "cell_type": "code",
   "execution_count": 46,
   "id": "ed4dc391",
   "metadata": {},
   "outputs": [
    {
     "data": {
      "image/png": "[encoded data removed]",
      "text/plain": [
       "<Figure size 432x288 with 1 Axes>"
      ]
     },
     "metadata": {
      "needs_background": "light"
     },
     "output_type": "display_data"
    }
   ],
   "source": [
    "plt.scatter(prom, desv, c='k', s=0.25)\n",
    "plt.xlabel('Mean(V)')\n",
    "plt.ylabel(r'$\\sigma_{V}$')\n",
    "plt.grid()\n",
    "plt.savefig('daoMeanDesv_sinFiltrar.pdf')\n"
   ]
  },
  {
   "cell_type": "code",
   "execution_count": 24,
   "id": "d1a89e85",
   "metadata": {},
   "outputs": [],
   "source": [
    "mag_1 = mag[0:2873]\n",
    "mag_2 = mag[2873:5744]\n",
    "mag_3 = mag[5744:]\n",
    "\n",
    "ids_1 = ids[0:2873]\n",
    "ids_2 = ids[2873:5744]\n",
    "ids_3 = ids[5744:]"
   ]
  },
  {
   "cell_type": "markdown",
   "id": "d5193c36",
   "metadata": {},
   "source": [
    "def func_plotBox(x,i):\n",
    "    \n",
    "    data = [value for value in x if not np.isnan(value)]\n",
    "    \n",
    "    plt.boxplot(data)\n",
    "    plt.ylabel('V')\n",
    "    plt.title(f'ID_{int(i)}')\n",
    "    pdf.savefig()\n",
    "    plt.close()\n",
    "    \n",
    "with PdfPages('MagBoxDao_1.pdf') as pdf: \n",
    "    for i in tqdm(range(len(ids_1))):\n",
    "        func_plotBox(mag_1[i], ids_1[i])"
   ]
  },
  {
   "cell_type": "code",
   "execution_count": null,
   "id": "48ae61d2",
   "metadata": {},
   "outputs": [
    {
     "name": "stderr",
     "output_type": "stream",
     "text": [
      "2592it [06:29,  7.25it/s]"
     ]
    }
   ],
   "source": [
    "with PdfPages('MagBoxDao_3.pdf') as pdf: \n",
    "    for i, magt in tqdm(enumerate(mag_3)):\n",
    "        datos = [value for value in magt if not np.isnan(value)]\n",
    "        if i%4 == 0:\n",
    "            fig, axs = plt.subplots(2, 2, figsize=(10, 8))\n",
    "            \n",
    "        fila = i%2 #se decide si el plot estará arriba o abajo\n",
    "        columna = (i // 2)%2\n",
    "        \n",
    "        axs[fila, columna].boxplot(datos)\n",
    "        axs[fila, columna].invert_yaxis()\n",
    "        axs[fila, columna].set_ylabel('V')\n",
    "        axs[fila, columna].set_title(f'ID_{int(ids_3[i])}, i={i}')\n",
    "        \n",
    "        if (i+1) % 4==0 or (i+1)==len(mag_3):\n",
    "            pdf.savefig(fig)\n",
    "            plt.close(fig)"
   ]
  },
  {
   "cell_type": "code",
   "execution_count": 42,
   "id": "48660d97",
   "metadata": {},
   "outputs": [],
   "source": [
    "def elimatp(mag, merr, time):\n",
    "    \n",
    "    data = [value for value in mag if not np.isnan(value)]\n",
    "    boxplot = plt.boxplot([data], flierprops = dict(markerfacecolor='red', marker='o'))\n",
    "    atpos = [item.get_ydata() for item in boxplot['fliers']]\n",
    "\n",
    "    magt = []\n",
    "    merrt = []\n",
    "    timet = []\n",
    "    for i in range(len(mag)):\n",
    "        if mag[i] not in atpos[0]:\n",
    "            magt.append(mag[i])\n",
    "            merrt.append(merr[i])\n",
    "            timet.append(time[i])\n",
    "    magt = np.array(magt)\n",
    "    merrt = np.array(merrt)\n",
    "    timet = np.array(timet)\n",
    "    return magt, merrt, timet"
   ]
  },
  {
   "cell_type": "code",
   "execution_count": 43,
   "id": "c1d413d5",
   "metadata": {},
   "outputs": [
    {
     "name": "stderr",
     "output_type": "stream",
     "text": [
      "100%|██████████| 8618/8618 [02:05<00:00, 68.53it/s]\n"
     ]
    }
   ],
   "source": [
    "mag1 = []\n",
    "merr1 = []\n",
    "ids1 = []\n",
    "time1 = []\n",
    "for i in tqdm(range(len(mag))):\n",
    "    magt, merrt, timet = elimatp(mag[i], merr[i], time)\n",
    "    len_sin_nan = np.count_nonzero(~np.isnan(magt))\n",
    "    if len_sin_nan >= 63:\n",
    "        mag1.append(magt)\n",
    "        merr1.append(merrt)\n",
    "        ids1.append(ids[i])\n",
    "        time1.append(timet)\n",
    "plt.close()"
   ]
  },
  {
   "cell_type": "code",
   "execution_count": 44,
   "id": "58ae70f6",
   "metadata": {},
   "outputs": [],
   "source": [
    "with open(\"mag_1.pickle\", \"wb\") as f:\n",
    "    pickle.dump(mag1, f)\n",
    "with open(\"merr_1.pickle\", \"wb\") as f:\n",
    "    pickle.dump(merr1, f)\n",
    "with open(\"ids_1.pickle\", \"wb\") as f:\n",
    "    pickle.dump(ids1, f)\n",
    "with open(\"time_1.pickle\", \"wb\") as f:\n",
    "    pickle.dump(ids1, f)"
   ]
  },
  {
   "cell_type": "code",
   "execution_count": 3,
   "id": "5c6ed647",
   "metadata": {},
   "outputs": [],
   "source": [
    "with open(\"mag_1.pickle\", \"rb\") as f:\n",
    "    mag1 = pickle.load(f)\n",
    "with open(\"merr_1.pickle\", \"rb\") as f:\n",
    "    merr1 = pickle.load(f)\n",
    "with open(\"ids_1.pickle\", \"rb\") as f:\n",
    "    ids1 = pickle.load(f)\n",
    "with open(\"time_1.pickle\", \"rb\") as f:\n",
    "    time1 = pickle.load(f)"
   ]
  },
  {
   "cell_type": "code",
   "execution_count": 45,
   "id": "22d20e77",
   "metadata": {},
   "outputs": [
    {
     "name": "stderr",
     "output_type": "stream",
     "text": [
      "100%|██████████| 8618/8618 [00:01<00:00, 6906.08it/s]\n"
     ]
    }
   ],
   "source": [
    "desv1 = []\n",
    "prom1 = []\n",
    "for i in tqdm(range(len(mag1))):\n",
    "    prom1.append(np.nanmean(mag1[i]))\n",
    "    desv1.append(np.nanstd(mag1[i]))"
   ]
  },
  {
   "cell_type": "code",
   "execution_count": 47,
   "id": "b1a4dce4",
   "metadata": {},
   "outputs": [
    {
     "data": {
      "image/png": "[encoded data removed]",
      "text/plain": [
       "<Figure size 432x288 with 1 Axes>"
      ]
     },
     "metadata": {
      "needs_background": "light"
     },
     "output_type": "display_data"
    }
   ],
   "source": [
    "plt.scatter(prom1, desv1, c='k', s=0.25)\n",
    "plt.xlabel('Mean(V)')\n",
    "plt.ylabel(r'$\\sigma_{V}$')\n",
    "plt.grid()\n",
    "plt.savefig('daoMeanDesv_sinATP.pdf')"
   ]
  },
  {
   "cell_type": "code",
   "execution_count": 56,
   "id": "c399c8e7",
   "metadata": {},
   "outputs": [],
   "source": [
    "def filtrar15mag(mag, merr, ids, prom, desv, time):\n",
    "    \n",
    "    magt = []\n",
    "    merrt = []\n",
    "    idst = []\n",
    "    promt = []\n",
    "    desvt = []\n",
    "    timet = []\n",
    "    \n",
    "    for i in tqdm(range(len(prom))):\n",
    "        if (prom[i]>=15):\n",
    "            magt.append(mag[i])\n",
    "            merrt.append(merr[i])\n",
    "            idst.append(ids[i])\n",
    "            promt.append(prom[i])\n",
    "            desvt.append(desv[i])\n",
    "            timet.append(time[i])\n",
    "            \n",
    "        \n",
    "    return magt, merrt, idst, promt, desvt, timet"
   ]
  },
  {
   "cell_type": "code",
   "execution_count": 57,
   "id": "1a15d8de",
   "metadata": {},
   "outputs": [
    {
     "name": "stderr",
     "output_type": "stream",
     "text": [
      "100%|██████████| 8618/8618 [00:00<00:00, 430069.86it/s]\n"
     ]
    }
   ],
   "source": [
    "mag2, merr2, ids2, prom2, desv2, time2 = filtrar15mag(mag1, merr1, ids1, prom1, desv1, time1)"
   ]
  },
  {
   "cell_type": "code",
   "execution_count": 156,
   "id": "87391bc5",
   "metadata": {},
   "outputs": [
    {
     "data": {
      "text/plain": [
       "8422"
      ]
     },
     "execution_count": 156,
     "metadata": {},
     "output_type": "execute_result"
    }
   ],
   "source": [
    "len(mag2)"
   ]
  },
  {
   "cell_type": "code",
   "execution_count": 58,
   "id": "e5d28232",
   "metadata": {},
   "outputs": [],
   "source": [
    "with open(\"mag_2.pickle\", \"wb\") as f:\n",
    "    pickle.dump(mag2, f)\n",
    "with open(\"merr_2.pickle\", \"wb\") as f:\n",
    "    pickle.dump(merr2, f)\n",
    "with open(\"ids_2.pickle\", \"wb\") as f:\n",
    "    pickle.dump(ids2, f)\n",
    "with open(\"time_2.pickle\", \"wb\") as f:\n",
    "    pickle.dump(time2, f)\n",
    "with open(\"prom_2.pickle\", \"wb\") as f:\n",
    "    pickle.dump(prom2, f)\n",
    "with open(\"desv_2.pickle\", \"wb\") as f:\n",
    "    pickle.dump(desv2, f)"
   ]
  },
  {
   "cell_type": "code",
   "execution_count": 37,
   "id": "6e9d8b80",
   "metadata": {},
   "outputs": [],
   "source": [
    "with open(\"mag_2.pickle\", \"rb\") as f:\n",
    "    mag2 = pickle.load(f)\n",
    "with open(\"merr_2.pickle\", \"rb\") as f:\n",
    "    merr2 = pickle.load(f)\n",
    "with open(\"ids_2.pickle\", \"rb\") as f:\n",
    "    ids2 = pickle.load(f)\n",
    "with open(\"time_2.pickle\", \"rb\") as f:\n",
    "    time2 = pickle.load(f)\n",
    "with open(\"prom_2.pickle\", \"rb\") as f:\n",
    "    prom2 = pickle.load(f)\n",
    "with open(\"desv_2.pickle\", \"rb\") as f:\n",
    "    desv2 = pickle.load(f)"
   ]
  },
  {
   "cell_type": "code",
   "execution_count": 108,
   "id": "3c920dfd",
   "metadata": {},
   "outputs": [],
   "source": [
    "def func(x, b, c, d):\n",
    "    return  b*x**2 + c*x + d\n",
    "popt, pcov = curve_fit(func, prom2, desv2)\n",
    "b, c, d = popt"
   ]
  },
  {
   "cell_type": "code",
   "execution_count": 131,
   "id": "090cbbb8",
   "metadata": {},
   "outputs": [
    {
     "data": {
      "text/plain": [
       "array([ 0.00371551, -0.1205641 ,  1.05761417])"
      ]
     },
     "execution_count": 131,
     "metadata": {},
     "output_type": "execute_result"
    }
   ],
   "source": [
    "fit = 1.22*func(np.array(prom2), b, c, d)\n",
    "popt"
   ]
  },
  {
   "cell_type": "code",
   "execution_count": 137,
   "id": "e9e7acb8",
   "metadata": {},
   "outputs": [
    {
     "data": {
      "text/plain": [
       "Text(0, 0.5, '$\\\\sigma_{promV}$')"
      ]
     },
     "execution_count": 137,
     "metadata": {},
     "output_type": "execute_result"
    },
    {
     "data": {
      "image/png": "[encoded data removed]",
      "text/plain": [
       "<Figure size 432x288 with 1 Axes>"
      ]
     },
     "metadata": {
      "needs_background": "light"
     },
     "output_type": "display_data"
    }
   ],
   "source": [
    "plt.scatter(prom2, desv2, s=1, c='k')\n",
    "plt.scatter(prom2, fit, s=0.8, c='r', label=r'fit: $0.004x^2 - 0.1x + 1.06$')\n",
    "plt.legend()\n",
    "plt.xlabel(r'Mean(V)[mag]')\n",
    "plt.ylabel(r'$\\sigma_{promV}$')"
   ]
  },
  {
   "cell_type": "code",
   "execution_count": 133,
   "id": "7541fc4a",
   "metadata": {},
   "outputs": [],
   "source": [
    "def filtrarfit(fit, mag, merr, ids, prom, desv, time):\n",
    "    magt = []\n",
    "    merrt = []\n",
    "    idst = []\n",
    "    promt = []\n",
    "    desvt = []\n",
    "    timet = []\n",
    "    for i in tqdm(range(len(prom))):\n",
    "        if (desv[i] > fit[i]):\n",
    "            magt.append(mag[i])\n",
    "            merrt.append(merr[i])\n",
    "            idst.append(ids[i])\n",
    "            promt.append(prom[i])\n",
    "            desvt.append(desv[i])\n",
    "            timet.append(time[i])\n",
    "            \n",
    "        \n",
    "    return magt, merrt, idst, promt, desvt, timet    "
   ]
  },
  {
   "cell_type": "code",
   "execution_count": 134,
   "id": "b8dcfa1c",
   "metadata": {},
   "outputs": [
    {
     "name": "stderr",
     "output_type": "stream",
     "text": [
      "100%|██████████| 8422/8422 [00:00<00:00, 842401.65it/s]\n"
     ]
    }
   ],
   "source": [
    "mag3, merr3, ids3, prom3, desv3, time3 = filtrarfit(fit, mag2, merr2, ids2, prom2, desv2, time2) "
   ]
  },
  {
   "cell_type": "code",
   "execution_count": 135,
   "id": "fb4b7a9e",
   "metadata": {},
   "outputs": [
    {
     "data": {
      "text/plain": [
       "343"
      ]
     },
     "execution_count": 135,
     "metadata": {},
     "output_type": "execute_result"
    }
   ],
   "source": [
    "len(prom3)"
   ]
  },
  {
   "cell_type": "code",
   "execution_count": 138,
   "id": "87467b03",
   "metadata": {},
   "outputs": [
    {
     "data": {
      "image/png": "[encoded data removed]",
      "text/plain": [
       "<Figure size 432x288 with 1 Axes>"
      ]
     },
     "metadata": {
      "needs_background": "light"
     },
     "output_type": "display_data"
    }
   ],
   "source": [
    "plt.scatter(prom2, desv2, s=1, c='k')\n",
    "plt.scatter(prom2, fit, s=0.6, c='r', label= r'fit: $0.004x^2 - 0.1x + 1.06$')\n",
    "plt.scatter(prom3, desv3, s=1, c='b')\n",
    "plt.legend()\n",
    "plt.xlabel(r'Mean(V)[mag]')\n",
    "plt.ylabel(r'$\\sigma_{promV}$')\n",
    "plt.savefig('daoMeanDesv_ajuste.pdf')"
   ]
  },
  {
   "cell_type": "code",
   "execution_count": 139,
   "id": "ab50779f",
   "metadata": {},
   "outputs": [
    {
     "data": {
      "text/plain": [
       "343"
      ]
     },
     "execution_count": 139,
     "metadata": {},
     "output_type": "execute_result"
    }
   ],
   "source": [
    "len(prom3)"
   ]
  },
  {
   "cell_type": "code",
   "execution_count": 140,
   "id": "56ae4510",
   "metadata": {},
   "outputs": [],
   "source": [
    "with open(\"mag_3.pickle\", \"wb\") as f:\n",
    "    pickle.dump(mag3, f)\n",
    "with open(\"merr_3.pickle\", \"wb\") as f:\n",
    "    pickle.dump(merr3, f)\n",
    "with open(\"ids_3.pickle\", \"wb\") as f:\n",
    "    pickle.dump(ids3, f)\n",
    "with open(\"time_3.pickle\", \"wb\") as f:\n",
    "    pickle.dump(time3, f)\n",
    "with open(\"prom_3.pickle\", \"wb\") as f:\n",
    "    pickle.dump(prom3, f)\n",
    "with open(\"desv_3.pickle\", \"wb\") as f:\n",
    "    pickle.dump(desv3, f)"
   ]
  },
  {
   "cell_type": "code",
   "execution_count": 141,
   "id": "7b23d287",
   "metadata": {},
   "outputs": [],
   "source": [
    "with open(\"mag_3.pickle\", \"rb\") as f:\n",
    "    mag3 = pickle.load(f)\n",
    "with open(\"merr_3.pickle\", \"rb\") as f:\n",
    "    merr3 = pickle.load(f)\n",
    "with open(\"ids_3.pickle\", \"rb\") as f:\n",
    "    ids3 = pickle.load(f)\n",
    "with open(\"time_3.pickle\", \"rb\") as f:\n",
    "    time3 = pickle.load(f)\n",
    "with open(\"prom_3.pickle\", \"rb\") as f:\n",
    "    prom3 = pickle.load(f)\n",
    "with open(\"desv_3.pickle\", \"rb\") as f:\n",
    "    desv3 = pickle.load(f)"
   ]
  },
  {
   "cell_type": "code",
   "execution_count": 144,
   "id": "81ce0f90",
   "metadata": {},
   "outputs": [
    {
     "data": {
      "image/png": "[encoded data removed]",
      "text/plain": [
       "<Figure size 432x288 with 1 Axes>"
      ]
     },
     "metadata": {
      "needs_background": "light"
     },
     "output_type": "display_data"
    }
   ],
   "source": [
    "plt.scatter(prom3, desv3, s=1, c='k')\n",
    "plt.xlabel(r'Mean(V)[mag]')\n",
    "plt.ylabel(r'$\\sigma_{promV}$')\n",
    "plt.grid\n",
    "plt.savefig('daoMeanDesv_candidatas.pdf')"
   ]
  },
  {
   "cell_type": "code",
   "execution_count": 145,
   "id": "4a8c2bd0",
   "metadata": {},
   "outputs": [],
   "source": [
    "def datasinnan(mag, merr, time):\n",
    "    magt = []\n",
    "    merrt = []\n",
    "    timet = []\n",
    "    for i in range(len(mag)):\n",
    "        if (np.isnan(mag[i]) == False) and (np.isnan(time[i]) == False):\n",
    "            timet.append(time[i])\n",
    "            magt.append(mag[i])\n",
    "            merrt.append(merr[i])\n",
    "           \n",
    "    return magt, merrt, timet"
   ]
  },
  {
   "cell_type": "code",
   "execution_count": null,
   "id": "53ca243b",
   "metadata": {},
   "outputs": [],
   "source": []
  },
  {
   "cell_type": "code",
   "execution_count": 146,
   "id": "177c909c",
   "metadata": {},
   "outputs": [
    {
     "name": "stderr",
     "output_type": "stream",
     "text": [
      "100%|██████████| 343/343 [00:01<00:00, 232.38it/s]\n"
     ]
    }
   ],
   "source": [
    "time4 = []\n",
    "mag4 = []\n",
    "merr4 = []\n",
    "ids4 = ids3\n",
    "prom4 = prom3\n",
    "desv4= desv3\n",
    "\n",
    "for i in tqdm(range(len(mag3))):\n",
    "    magt, merrt, timet = datasinnan(mag3[i], merr3[i], time3[i])\n",
    "    time4.append(np.array(timet))\n",
    "    mag4.append(np.array(magt))\n",
    "    merr4.append(np.array(merrt))"
   ]
  },
  {
   "cell_type": "code",
   "execution_count": 147,
   "id": "ade6ce91",
   "metadata": {},
   "outputs": [],
   "source": [
    "with open(\"mag_4.pickle\", \"wb\") as f:\n",
    "    pickle.dump(mag4, f)\n",
    "with open(\"merr_4.pickle\", \"wb\") as f:\n",
    "    pickle.dump(merr4, f)\n",
    "with open(\"ids_4.pickle\", \"wb\") as f:\n",
    "    pickle.dump(ids4, f)\n",
    "with open(\"time_4.pickle\", \"wb\") as f:\n",
    "    pickle.dump(time4, f)\n",
    "with open(\"prom_4.pickle\", \"wb\") as f:\n",
    "    pickle.dump(prom4, f)\n",
    "with open(\"desv_4.pickle\", \"wb\") as f:\n",
    "    pickle.dump(desv4, f)"
   ]
  },
  {
   "cell_type": "code",
   "execution_count": 148,
   "id": "601e0ce8",
   "metadata": {},
   "outputs": [],
   "source": [
    "with open(\"mag_4.pickle\", \"rb\") as f:\n",
    "    mag4 = pickle.load(f)\n",
    "with open(\"merr_4.pickle\", \"rb\") as f:\n",
    "    merr4 = pickle.load(f)\n",
    "with open(\"ids_4.pickle\", \"rb\") as f:\n",
    "    ids4 = pickle.load(f)\n",
    "with open(\"time_4.pickle\", \"rb\") as f:\n",
    "    time4 = pickle.load(f)\n",
    "with open(\"prom_4.pickle\", \"rb\") as f:\n",
    "    prom4 = pickle.load(f)\n",
    "with open(\"desv_4.pickle\", \"rb\") as f:\n",
    "    desv4 = pickle.load(f)"
   ]
  },
  {
   "cell_type": "code",
   "execution_count": 149,
   "id": "0e685d4a",
   "metadata": {},
   "outputs": [
    {
     "name": "stderr",
     "output_type": "stream",
     "text": [
      "100%|██████████| 343/343 [00:49<00:00,  6.96it/s]\n"
     ]
    }
   ],
   "source": [
    "with PdfPages('magTdaoSet4.pdf') as pdf: \n",
    "    for i in tqdm(range(len(mag4))): \n",
    "        plt.scatter(time4[i], mag4[i], c='k', s=0.8) \n",
    "        plt.gca().invert_yaxis()\n",
    "        plt.xlabel('HJD')\n",
    "        plt.ylabel('V')\n",
    "        plt.title( f'ID_{ids4[i]}, i={i}') \n",
    "        pdf.savefig()\n",
    "        plt.close()"
   ]
  },
  {
   "cell_type": "code",
   "execution_count": 150,
   "id": "ee6d60ef",
   "metadata": {},
   "outputs": [],
   "source": [
    "#funciones para Lombscargle\n",
    "def darfase(T, t0, P):\n",
    "    f = np.zeros(len(T))\n",
    "    i = 0\n",
    "    for t in T:\n",
    "        if np.isnan(t)==True:\n",
    "            t = 0\n",
    "        a = (t - t0)/P\n",
    "        b = int((t - t0)/P)\n",
    "        f[i] = a-b\n",
    "        i+=1\n",
    "    return f\n",
    "\n",
    "def darfrec(t):\n",
    "    fmax = 1/(1.1/24)\n",
    "    fmin = 1/9.9\n",
    "    \n",
    "    return fmin, fmax\n",
    "\n",
    "def darDatos(t, t0, m, merr):\n",
    "    \n",
    "    fmin, fmax = darfrec(t)\n",
    "    \n",
    "    ls = LombScargle(t, m, merr)\n",
    "    f, pw = ls.autopower(minimum_frequency=fmin, maximum_frequency=fmax)\n",
    "    \n",
    "    s95 = ls.false_alarm_level(0.05)\n",
    "    s99 = ls.false_alarm_level(0.01)\n",
    "    pwarr = np.sort(pw)\n",
    "    pint = pwarr[-5:]\n",
    "    ub = np.where(np.isin(pw, pint))[0]\n",
    "    fmax = f[ub]\n",
    "    p = 1/fmax\n",
    "    Fase=[]\n",
    "    for i in range(len(p)):\n",
    "        Fase.append(darfase(t, 0, p[i]))\n",
    "    \n",
    "    return pw, f, Fase, p, s95, s99"
   ]
  },
  {
   "cell_type": "code",
   "execution_count": 151,
   "id": "409148c8",
   "metadata": {},
   "outputs": [
    {
     "name": "stderr",
     "output_type": "stream",
     "text": [
      "100%|██████████| 343/343 [00:15<00:00, 22.61it/s]\n"
     ]
    }
   ],
   "source": [
    "pw = []\n",
    "fases = []\n",
    "fre = []\n",
    "p = []\n",
    "s95 = []\n",
    "s99 = []\n",
    "\n",
    "for i in tqdm(range(len(mag4))):\n",
    "    pw1, fre1, fase1,  p1, s951, s991 = darDatos(time4[i], 0, mag4[i], merr4[i])\n",
    "    pw.append(pw1)\n",
    "    fases.append(fase1)\n",
    "    fre.append(fre1)\n",
    "    p.append(p1)\n",
    "    s95.append(s951)\n",
    "    s99.append(s991)   "
   ]
  },
  {
   "cell_type": "code",
   "execution_count": 152,
   "id": "308c56f9",
   "metadata": {},
   "outputs": [],
   "source": [
    "with open(\"pw.pickle\", \"wb\") as f:\n",
    "    pickle.dump(pw, f)\n",
    "with open(\"fases.pickle\", \"wb\") as f:\n",
    "    pickle.dump(fases, f)\n",
    "with open(\"fre.pickle\", \"wb\") as f:\n",
    "    pickle.dump(fre, f)\n",
    "with open(\"period.pickle\", \"wb\") as f:\n",
    "    pickle.dump(p, f)\n",
    "with open(\"sig95.pickle\", \"wb\") as f:\n",
    "    pickle.dump(s95, f)\n",
    "with open(\"sig99.pickle\", \"wb\") as f:\n",
    "    pickle.dump(s99, f)"
   ]
  },
  {
   "cell_type": "code",
   "execution_count": 153,
   "id": "9b47e0b6",
   "metadata": {},
   "outputs": [],
   "source": [
    "with open(\"pw.pickle\", \"rb\") as f:\n",
    "    pw = pickle.load(f)\n",
    "with open(\"fases.pickle\", \"rb\") as f:\n",
    "    fases = pickle.load(f)\n",
    "with open(\"fre.pickle\", \"rb\") as f:\n",
    "    fre = pickle.load(f)\n",
    "with open(\"period.pickle\", \"rb\") as f:\n",
    "    p = pickle.load(f)\n",
    "with open(\"sig95.pickle\", \"rb\") as f:\n",
    "    s95 = pickle.load(f)\n",
    "with open(\"sig99.pickle\", \"rb\") as f:\n",
    "    s99 = pickle.load(f)"
   ]
  },
  {
   "cell_type": "code",
   "execution_count": 154,
   "id": "e01dba1b",
   "metadata": {},
   "outputs": [
    {
     "name": "stderr",
     "output_type": "stream",
     "text": [
      "100%|██████████| 343/343 [12:00<00:00,  2.10s/it] \n"
     ]
    }
   ],
   "source": [
    "with PdfPages('CurvasDao.pdf') as pdf:\n",
    "    for i in tqdm(range(len(mag4))):\n",
    "        fig, axs = plt.subplots(2, 3, figsize=(10,6))\n",
    "        \n",
    "        axs[0, 0].plot(fre[i], pw[i], c='k', linewidth=0.5)\n",
    "        axs[0, 0].set_title( f'ID_{ids4[i]}, i={i}')\n",
    "        axs[0, 0].set_xlabel('Frequency')\n",
    "        axs[0, 0].set_ylabel('Power')\n",
    "        axs[0, 0].axhline(s95[i], color='r', linestyle='--', label='FAL = 0.05')\n",
    "        axs[0, 0].axhline(s99[i], color='b', linestyle='--',  label='FAL = 0.01')\n",
    "        axs[0, 0].legend()\n",
    "        \n",
    "        for j, periodo in enumerate(p[i]):\n",
    "            if j<2:\n",
    "                for k in [-1, 0, 1]:\n",
    "                    axs[0, j+1].scatter(fases[i][j]+k, mag4[i], s=1, c=\"darkred\")\n",
    "                axs[0, j+1].invert_yaxis()\n",
    "                axs[0, j+1].set_xlabel('Fase')\n",
    "                axs[0, j+1].set_ylabel('V')\n",
    "                axs[0, j+1].set_title(f'Periodo={round(p[i][j], 3)}[d]')\n",
    "            else:\n",
    "                for k in [-1, 0, 1]:\n",
    "                    axs[1, j-2].scatter(fases[i][j]+k, mag4[i], s=1, c=\"darkred\")\n",
    "                axs[1, j-2].invert_yaxis()\n",
    "                axs[1, j-2].set_xlabel('Fase')\n",
    "                axs[1, j-2].set_ylabel('V')\n",
    "                axs[1, j-2].set_title(f'Periodo={round(p[i][j], 3)}[d]')\n",
    "        \n",
    "        plt.tight_layout()\n",
    "        pdf.savefig()\n",
    "        plt.close()\n",
    "            "
   ]
  },
  {
   "cell_type": "code",
   "execution_count": 170,
   "id": "71b24b78",
   "metadata": {},
   "outputs": [
    {
     "data": {
      "text/plain": [
       "129"
      ]
     },
     "execution_count": 170,
     "metadata": {},
     "output_type": "execute_result"
    }
   ],
   "source": [
    "ids4.index(6108.0)"
   ]
  },
  {
   "cell_type": "code",
   "execution_count": 171,
   "id": "212ed3dc",
   "metadata": {},
   "outputs": [
    {
     "data": {
      "image/png": "[encoded data removed]",
      "text/plain": [
       "<Figure size 432x288 with 1 Axes>"
      ]
     },
     "metadata": {
      "needs_background": "light"
     },
     "output_type": "display_data"
    }
   ],
   "source": [
    "plt.scatter(time4[129], mag4[129], c='k', s=0.8) \n",
    "plt.gca().invert_yaxis()\n",
    "plt.xlabel('HJD')\n",
    "plt.ylabel('V')\n",
    "plt.title( f'ID_{ids4[129]}, i={129}') \n",
    "plt.savefig('magt6108.pdf')"
   ]
  },
  {
   "cell_type": "code",
   "execution_count": null,
   "id": "e51c07d7",
   "metadata": {},
   "outputs": [],
   "source": []
  },
  {
   "cell_type": "code",
   "execution_count": 172,
   "id": "c20fb87d",
   "metadata": {},
   "outputs": [],
   "source": [
    "fmax = 1/(1.1/24)\n",
    "fmin = 1/9.9\n",
    "    \n",
    "ls = LombScargle(time4[129], mag4[129], merr4[129])\n",
    "fp, pwp = ls.autopower(minimum_frequency=fmin, maximum_frequency=fmax)\n",
    "    \n",
    "s95p = ls.false_alarm_level(0.05)\n",
    "s99p = ls.false_alarm_level(0.01)\n",
    "pwarr = np.sort(pwp)\n",
    "pint = pwarr[-5:]\n",
    "ub = np.where(np.isin(pwp, pint))[0]\n",
    "fmax = fp[ub]\n",
    "pp = 1/fmax\n",
    "Fase=[]\n",
    "for i in range(len(pp)):\n",
    "    Fase.append(darfase(time4[129], 0, pp[i]))\n",
    "    "
   ]
  },
  {
   "cell_type": "code",
   "execution_count": 173,
   "id": "cd09f131",
   "metadata": {},
   "outputs": [
    {
     "data": {
      "image/png": "[encoded data removed]",
      "text/plain": [
       "<Figure size 720x432 with 6 Axes>"
      ]
     },
     "metadata": {
      "needs_background": "light"
     },
     "output_type": "display_data"
    }
   ],
   "source": [
    "fig, axs = plt.subplots(2, 3, figsize=(10,6))\n",
    "        \n",
    "axs[0, 0].plot(fp, pwp, c='k', linewidth=0.5)\n",
    "axs[0, 0].set_title( f'ID_{ids4[129]}, i={129}')\n",
    "axs[0, 0].set_xlabel('Frequency')\n",
    "axs[0, 0].set_ylabel('Power')\n",
    "axs[0, 0].axhline(s95p, color='r', linestyle='--', label='FAL = 0.05')\n",
    "axs[0, 0].axhline(s99p, color='b', linestyle='--',  label='FAL = 0.01')\n",
    "axs[0, 0].legend()\n",
    "        \n",
    "for j, periodo in enumerate(pp):\n",
    "    if j<2:\n",
    "        for k in [-1, 0, 1]:\n",
    "            axs[0, j+1].scatter(Fase[j]+k, mag4[129], s=1, c=\"darkred\")\n",
    "        axs[0, j+1].invert_yaxis()\n",
    "        axs[0, j+1].set_xlabel('Fase')\n",
    "        axs[0, j+1].set_ylabel('V')\n",
    "        axs[0, j+1].set_title(f'Periodo={round(pp[j], 3)}[d]')\n",
    "    else:\n",
    "        for k in [-1, 0, 1]:\n",
    "            axs[1, j-2].scatter(Fase[j]+k, mag4[129], s=1, c=\"darkred\")\n",
    "        axs[1, j-2].invert_yaxis()\n",
    "        axs[1, j-2].set_xlabel('Fase')\n",
    "        axs[1, j-2].set_ylabel('V')\n",
    "        axs[1, j-2].set_title(f'Periodo={round(pp[j], 3)}[d]')\n",
    "        \n",
    "plt.tight_layout()\n",
    "plt.savefig('Periodomagt6108.pdf')"
   ]
  },
  {
   "cell_type": "code",
   "execution_count": null,
   "id": "5b7636a5",
   "metadata": {},
   "outputs": [],
   "source": []
  }
 ],
 "metadata": {
  "kernelspec": {
   "display_name": "Python 3 (ipykernel)",
   "language": "python",
   "name": "python3"
  },
  "language_info": {
   "codemirror_mode": {
    "name": "ipython",
    "version": 3
   },
   "file_extension": ".py",
   "mimetype": "text/x-python",
   "name": "python",
   "nbconvert_exporter": "python",
   "pygments_lexer": "ipython3",
   "version": "3.9.7"
  }
 },
 "nbformat": 4,
 "nbformat_minor": 5
}
