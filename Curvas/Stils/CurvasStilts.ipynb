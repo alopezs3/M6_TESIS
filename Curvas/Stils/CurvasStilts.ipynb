{
 "cells": [
  {
   "cell_type": "code",
   "execution_count": 1,
   "id": "3c5b23b6",
   "metadata": {},
   "outputs": [],
   "source": [
    "import numpy as np\n",
    "import pandas as pd\n",
    "import matplotlib.pyplot as plt\n",
    "#import dask.dataframe as dd\n",
    "from tqdm import tqdm\n",
    "import scipy.stats as sct\n",
    "#from prose.fluxes import Fluxes\n",
    "#from prose import Sequence, blocks\n",
    "from scipy.optimize import curve_fit\n",
    "from matplotlib.backends.backend_pdf import PdfPages\n",
    "#from scipy.signal import lombscargle as lbsc\n",
    "import pickle\n",
    "from astropy.timeseries import LombScargle"
   ]
  },
  {
   "cell_type": "code",
   "execution_count": 2,
   "id": "377cad9e",
   "metadata": {},
   "outputs": [],
   "source": [
    "with open('time.dat', 'r') as file:\n",
    "    lineas = file.readlines()\n",
    "time = np.zeros(len(lineas))\n",
    "for i in range(len(lineas)):\n",
    "    if i==0:\n",
    "        time[i] = np.nan\n",
    "    else:\n",
    "        time[i] = float(lineas[i].strip())"
   ]
  },
  {
   "cell_type": "code",
   "execution_count": 3,
   "id": "ec3bd284",
   "metadata": {},
   "outputs": [
    {
     "name": "stderr",
     "output_type": "stream",
     "text": [
      "19711it [01:29, 219.27it/s]\n"
     ]
    }
   ],
   "source": [
    "with open('resultado.csv', 'r') as file:\n",
    "    lineas= file.readlines()\n",
    "    \n",
    "stars_o = []\n",
    "for i, linea in tqdm(enumerate(lineas)):\n",
    "    if i == 0:\n",
    "        header = np.array(linea.split(','), dtype=str) \n",
    "    if i > 0:\n",
    "        valores=linea.split(',')\n",
    "        lista = []\n",
    "        for valor in valores:\n",
    "            if (valor.strip() != '') and (valor.strip() != 'INDEF'):\n",
    "                lista.append(float(valor))\n",
    "            \n",
    "            else:\n",
    "                lista.append(np.nan)\n",
    "            \n",
    "        \n",
    "        del lista[12] #elimina valor 'separation'\n",
    "        star = np.array(lista)\n",
    "        stars_o.append(star)"
   ]
  },
  {
   "cell_type": "code",
   "execution_count": 4,
   "id": "a3d338d8",
   "metadata": {},
   "outputs": [],
   "source": [
    "stars = stars_o.copy()"
   ]
  },
  {
   "cell_type": "code",
   "execution_count": 5,
   "id": "28785df6",
   "metadata": {},
   "outputs": [
    {
     "name": "stderr",
     "output_type": "stream",
     "text": [
      "100%|███████████████████████████████████████████████████████████████████████████| 19710/19710 [01:31<00:00, 215.80it/s]\n"
     ]
    }
   ],
   "source": [
    "flux = []\n",
    "mag = []\n",
    "merr = []\n",
    "ids = []\n",
    "xcoords = []\n",
    "ycoords = []\n",
    "for i in tqdm(range(len(stars))):\n",
    "    ftemp = []\n",
    "    mgtemp = []\n",
    "    mrtemp = []\n",
    "    idtemp = []\n",
    "    xcootemp = []\n",
    "    ycootemp = []\n",
    "    for j in range(len(stars[i])):\n",
    "        \n",
    "        if j%6 == 0:\n",
    "            idtemp.append(stars[i][j])\n",
    "        if j%6 == 1:\n",
    "            xcootemp.append(stars[i][j])\n",
    "        if j%6 == 2:\n",
    "            ycootemp.append(stars[i][j])\n",
    "        if j%6 == 3:\n",
    "            ftemp.append(stars[i][j])   \n",
    "        if j%6 == 4:\n",
    "            mgtemp.append(stars[i][j])\n",
    "        if j%6 == 5:\n",
    "            mrtemp.append(stars[i][j])  \n",
    "            \n",
    "    len_sin_nan = np.count_nonzero(~np.isnan(mgtemp))\n",
    "    if len_sin_nan >= 63: \n",
    "        \n",
    "        ids.append(np.array(idtemp))\n",
    "        flux.append(np.array(ftemp))\n",
    "        mag.append(np.array(mgtemp))\n",
    "        merr.append(np.array(mrtemp))\n",
    "        xcoords.append(np.array(xcootemp))\n",
    "        ycoords.append(np.array(ycootemp))"
   ]
  },
  {
   "cell_type": "code",
   "execution_count": 6,
   "id": "9355b53d",
   "metadata": {},
   "outputs": [],
   "source": [
    "idsM = [ids[i][0] for i in range(len(ids))]\n",
    "XcooM = [xcoords[i][0] for i in range(len(xcoords))]\n",
    "YcooM = [ycoords[i][0] for i in range(len(ycoords))]"
   ]
  },
  {
   "cell_type": "code",
   "execution_count": 28,
   "id": "78f17643",
   "metadata": {},
   "outputs": [
    {
     "name": "stdout",
     "output_type": "stream",
     "text": [
      "9450.0 2614.604 3048.809 19.297 0.065\n"
     ]
    }
   ],
   "source": [
    "print(idsM[8398], XcooM[8398], YcooM[8398], mag[8398][100], merr[8398][100])"
   ]
  },
  {
   "cell_type": "code",
   "execution_count": 27,
   "id": "85fe61c0",
   "metadata": {},
   "outputs": [
    {
     "data": {
      "text/plain": [
       "8398"
      ]
     },
     "execution_count": 27,
     "metadata": {},
     "output_type": "execute_result"
    }
   ],
   "source": [
    "idsM.index(9450.0)"
   ]
  },
  {
   "cell_type": "code",
   "execution_count": 26,
   "id": "e539a762",
   "metadata": {},
   "outputs": [],
   "source": [
    "with open(\"mag.pickle\", \"wb\") as f:\n",
    "    pickle.dump(mag, f)\n",
    "    \n",
    "with open(\"merr.pickle\", \"wb\") as f:\n",
    "    pickle.dump(merr, f)\n",
    "    \n",
    "with open(\"flux.pickle\", \"wb\") as f:\n",
    "    pickle.dump(flux, f)\n",
    "    \n",
    "with open(\"idsM.pickle\", \"wb\") as f:\n",
    "    pickle.dump(idsM, f)\n",
    "    \n",
    "with open(\"xcoo.pickle\", \"wb\") as f:\n",
    "    pickle.dump(XcooM, f)\n",
    "    \n",
    "with open(\"ycoo.pickle\", \"wb\") as f:\n",
    "    pickle.dump(YcooM, f)\n",
    "    \n",
    "with open(\"time.pickle\", \"wb\") as f:\n",
    "    pickle.dump(time, f)"
   ]
  },
  {
   "cell_type": "code",
   "execution_count": null,
   "id": "f8393459",
   "metadata": {},
   "outputs": [],
   "source": [
    "with open(\"mag.pickle\", \"rb\") as f:\n",
    "    mag = pickle.load(f)\n",
    "with open(\"merr.pickle\", \"rb\") as f:\n",
    "    merr = pickle.load(f)\n",
    "with open(\"flux.pickle\", \"rb\") as f:\n",
    "    flux = pickle.load(f)\n",
    "with open(\"ids.pickle\", \"rb\") as f:\n",
    "    idsM = pickle.load(f)\n",
    "with open(\"xcoo.pickle\", \"rb\") as f:\n",
    "    XcooM = pickle.load(f)\n",
    "with open(\"ycoo.pickle\", \"rb\") as f:\n",
    "    YcooM = pickle.load(f)\n",
    "with open(\"time.pickle\", \"rb\") as f:\n",
    "    time = pickle.load(f)"
   ]
  },
  {
   "cell_type": "code",
   "execution_count": 29,
   "id": "e9539eae",
   "metadata": {},
   "outputs": [
    {
     "name": "stderr",
     "output_type": "stream",
     "text": [
      "100%|██████████████████████████████████████████████████████████████████████████| 14637/14637 [00:02<00:00, 6500.94it/s]\n"
     ]
    }
   ],
   "source": [
    "desv = []\n",
    "prom = []\n",
    "for i in tqdm(range(len(mag))):\n",
    "    prom.append(np.nanmean(mag[i]))\n",
    "    desv.append(np.nanstd(mag[i]))"
   ]
  },
  {
   "cell_type": "code",
   "execution_count": 30,
   "id": "a7a6374c",
   "metadata": {},
   "outputs": [
    {
     "data": {
      "image/png": "[encoded data removed]",
      "text/plain": [
       "<Figure size 432x288 with 1 Axes>"
      ]
     },
     "metadata": {
      "needs_background": "light"
     },
     "output_type": "display_data"
    }
   ],
   "source": [
    "plt.scatter(prom, desv, c='k', s=0.25)\n",
    "plt.xlabel('Mean(V)')\n",
    "plt.ylabel(r'$\\sigma_{V}$')\n",
    "plt.grid()"
   ]
  },
  {
   "cell_type": "code",
   "execution_count": 89,
   "id": "57ff053c",
   "metadata": {},
   "outputs": [],
   "source": [
    "mag_1 = mag[0:3655]\n",
    "mag_2 = mag[3655:7309]\n",
    "mag_3 = mag[7309: 10965]\n",
    "mag_4 = mag[10965:]\n",
    "\n",
    "ids_1 = idsM[0:3655]\n",
    "ids_2 = idsM[3655:7309]\n",
    "ids_3 = idsM[7309: 10965]\n",
    "ids_4 = idsM[10965:]"
   ]
  },
  {
   "cell_type": "code",
   "execution_count": 106,
   "id": "78df1aca",
   "metadata": {},
   "outputs": [
    {
     "name": "stderr",
     "output_type": "stream",
     "text": [
      "3672it [04:16, 14.33it/s]\n"
     ]
    }
   ],
   "source": [
    "with PdfPages('MagBoxStilts_4.pdf') as pdf: \n",
    "    for i, magt in tqdm(enumerate(mag_4)):\n",
    "        datos = [value for value in magt if not np.isnan(value)]\n",
    "        if i%4 == 0:\n",
    "            fig, axs = plt.subplots(2, 2, figsize=(10, 8))\n",
    "            \n",
    "        fila = i%2 #se decide si el plot estará arriba o abajo\n",
    "        columna = (i // 2)%2\n",
    "        \n",
    "        axs[fila, columna].boxplot(datos)\n",
    "        axs[fila, columna].invert_yaxis()\n",
    "        axs[fila, columna].set_ylabel('V')\n",
    "        axs[fila, columna].set_title(f'ID_{ids_4[i]}, i={i}')\n",
    "        \n",
    "        if (i+1) % 4==0 or (i+1)==len(mag_4):\n",
    "            pdf.savefig(fig)\n",
    "            plt.close(fig)"
   ]
  },
  {
   "cell_type": "code",
   "execution_count": null,
   "id": "c41a4b62",
   "metadata": {},
   "outputs": [],
   "source": []
  },
  {
   "cell_type": "code",
   "execution_count": 35,
   "id": "47f0ecb6",
   "metadata": {},
   "outputs": [],
   "source": [
    "def elimatp(mag, merr, flux, time):\n",
    "    data = [value for value in mag if not np.isnan(value)]\n",
    "    boxplot = plt.boxplot([data])\n",
    "    atpos = [item.get_ydata() for item in boxplot['fliers']]\n",
    "    magt = []\n",
    "    merrt = []\n",
    "    fluxt = []\n",
    "    timet = []\n",
    "    for i in range(len(mag)):\n",
    "        if mag[i] not in atpos[0]:\n",
    "            magt.append(mag[i])\n",
    "            merrt.append(merr[i])\n",
    "            fluxt.append(flux[i])\n",
    "            timet.append(time[i])\n",
    "    magt = np.array(magt)\n",
    "    merrt = np.array(merrt)\n",
    "    fluxt = np.array(fluxt)\n",
    "    timet = np.array(timet)\n",
    "    return magt, merrt, fluxt, timet"
   ]
  },
  {
   "cell_type": "code",
   "execution_count": 108,
   "id": "4aadb093",
   "metadata": {},
   "outputs": [
    {
     "name": "stderr",
     "output_type": "stream",
     "text": [
      "100%|████████████████████████████████████████████████████████████████████████████| 14637/14637 [04:17<00:00, 56.78it/s]\n"
     ]
    }
   ],
   "source": [
    "mag1 = []\n",
    "merr1 = []\n",
    "flux1 = []\n",
    "ids1 = []\n",
    "time1 = []\n",
    "xcoo1 = []\n",
    "ycoo1 = []\n",
    "for i in tqdm(range(len(mag))):\n",
    "    magt, merrt, fluxt, timet = elimatp(mag[i], merr[i], flux[i], time)\n",
    "    len_sin_nan = np.count_nonzero(~np.isnan(magt))\n",
    "    if len_sin_nan >= 63:\n",
    "        mag1.append(magt)\n",
    "        merr1.append(merrt)\n",
    "        flux1.append(fluxt)\n",
    "        ids1.append(idsM[i])\n",
    "        time1.append(timet)\n",
    "        xcoo1.append(XcooM[i])\n",
    "        ycoo1.append(YcooM[i])\n",
    "plt.close()"
   ]
  },
  {
   "cell_type": "code",
   "execution_count": 109,
   "id": "c68932b5",
   "metadata": {},
   "outputs": [],
   "source": [
    "with open(\"mag_1.pickle\", \"wb\") as f:\n",
    "    pickle.dump(mag1, f)\n",
    "    \n",
    "with open(\"merr_1.pickle\", \"wb\") as f:\n",
    "    pickle.dump(merr1, f)\n",
    "    \n",
    "with open(\"flux_1.pickle\", \"wb\") as f:\n",
    "    pickle.dump(flux1, f)\n",
    "    \n",
    "with open(\"ids_1.pickle\", \"wb\") as f:\n",
    "    pickle.dump(ids1, f)\n",
    "    \n",
    "with open(\"time_1.pickle\", \"wb\") as f:\n",
    "    pickle.dump(time1, f)\n",
    "    \n",
    "with open(\"xcoo_1.pickle\", \"wb\") as f:\n",
    "    pickle.dump(xcoo1, f)\n",
    "    \n",
    "with open(\"ycoo_1.pickle\", \"wb\") as f:\n",
    "    pickle.dump(ycoo1, f)   "
   ]
  },
  {
   "cell_type": "code",
   "execution_count": 110,
   "id": "23764e0c",
   "metadata": {},
   "outputs": [],
   "source": [
    "with open(\"mag_1.pickle\", \"rb\") as f:\n",
    "    mag1 = pickle.load(f)\n",
    "with open(\"merr_1.pickle\", \"rb\") as f:\n",
    "    merr1 = pickle.load(f)\n",
    "with open(\"flux_1.pickle\", \"rb\") as f:\n",
    "    flux1 = pickle.load(f)\n",
    "with open(\"ids_1.pickle\", \"rb\") as f:\n",
    "    ids1 = pickle.load(f)\n",
    "with open(\"time_1.pickle\", \"rb\") as f:\n",
    "    time1 = pickle.load(f)\n",
    "with open(\"xcoo_1.pickle\", \"rb\") as f:\n",
    "    xcoo1 = pickle.load(f)\n",
    "with open(\"ycoo_1.pickle\", \"rb\") as f:\n",
    "    ycoo1 = pickle.load(f)"
   ]
  },
  {
   "cell_type": "code",
   "execution_count": 111,
   "id": "197e1d79",
   "metadata": {},
   "outputs": [
    {
     "name": "stderr",
     "output_type": "stream",
     "text": [
      "100%|██████████████████████████████████████████████████████████████████████████| 14530/14530 [00:02<00:00, 6619.36it/s]\n"
     ]
    }
   ],
   "source": [
    "desv1 = []\n",
    "prom1 = []\n",
    "for i in tqdm(range(len(mag1))):\n",
    "    prom1.append(np.nanmean(mag1[i]))\n",
    "    desv1.append(np.nanstd(mag1[i]))"
   ]
  },
  {
   "cell_type": "code",
   "execution_count": 41,
   "id": "3ddd3d22",
   "metadata": {},
   "outputs": [
    {
     "data": {
      "image/png": "[encoded data removed]",
      "text/plain": [
       "<Figure size 432x288 with 1 Axes>"
      ]
     },
     "metadata": {
      "needs_background": "light"
     },
     "output_type": "display_data"
    }
   ],
   "source": [
    "plt.scatter(prom1, desv1, c='k', s=0.25)\n",
    "plt.xlabel('Mean(V)')\n",
    "plt.ylabel(r'$\\sigma_{V}$')\n",
    "plt.grid()"
   ]
  },
  {
   "cell_type": "code",
   "execution_count": 43,
   "id": "5cf0d67d",
   "metadata": {},
   "outputs": [
    {
     "data": {
      "text/plain": [
       "14530"
      ]
     },
     "execution_count": 43,
     "metadata": {},
     "output_type": "execute_result"
    }
   ],
   "source": [
    "len(prom1)"
   ]
  },
  {
   "cell_type": "code",
   "execution_count": 112,
   "id": "77be70c7",
   "metadata": {},
   "outputs": [],
   "source": [
    "def filtrarMag(mag, merr, ids, flux, prom, desv, time, xcoo, ycoo):\n",
    "    \n",
    "    magt = []\n",
    "    merrt = []\n",
    "    idst = []\n",
    "    fluxt = []\n",
    "    promt = []\n",
    "    desvt = []\n",
    "    timet = []\n",
    "    xcoot = []\n",
    "    ycoot = []\n",
    "    \n",
    "    for i in tqdm(range(len(prom))):\n",
    "        if (prom[i] >= 15.0) and (desv[i] < 1.0) :\n",
    "            magt.append(mag[i])\n",
    "            merrt.append(merr[i])\n",
    "            idst.append(ids[i])\n",
    "            fluxt.append(flux[i])\n",
    "            promt.append(prom[i])\n",
    "            desvt.append(desv[i])\n",
    "            timet.append(time[i])\n",
    "            xcoot.append(xcoo[i])\n",
    "            ycoot.append(ycoo[i])\n",
    "            \n",
    "        \n",
    "    return magt, merrt, idst, fluxt, promt, desvt, timet, xcoot, ycoot"
   ]
  },
  {
   "cell_type": "code",
   "execution_count": 113,
   "id": "9f0129f2",
   "metadata": {},
   "outputs": [
    {
     "name": "stderr",
     "output_type": "stream",
     "text": [
      "100%|████████████████████████████████████████████████████████████████████████| 14530/14530 [00:00<00:00, 350873.61it/s]\n"
     ]
    }
   ],
   "source": [
    "mag2, merr2,  ids2, flux2, prom2, desv2, time2, xcoo2, ycoo2 = filtrarMag(mag1, merr1, ids1, flux1, prom1, desv1, time1, xcoo1, ycoo1)"
   ]
  },
  {
   "cell_type": "code",
   "execution_count": 114,
   "id": "c190999b",
   "metadata": {},
   "outputs": [
    {
     "name": "stderr",
     "output_type": "stream",
     "text": [
      "100%|██████████████████████████████████████████████████████████████████████████| 12408/12408 [00:01<00:00, 6670.65it/s]\n"
     ]
    }
   ],
   "source": [
    "desv2 = []\n",
    "prom2 = []\n",
    "for i in tqdm(range(len(mag2))):\n",
    "    prom2.append(np.nanmean(mag2[i]))\n",
    "    desv2.append(np.nanstd(mag2[i]))"
   ]
  },
  {
   "cell_type": "code",
   "execution_count": 55,
   "id": "118a0434",
   "metadata": {},
   "outputs": [
    {
     "data": {
      "image/png": "[encoded data removed]",
      "text/plain": [
       "<Figure size 432x288 with 1 Axes>"
      ]
     },
     "metadata": {
      "needs_background": "light"
     },
     "output_type": "display_data"
    }
   ],
   "source": [
    "plt.scatter(prom2, desv2, c='k', s=0.25)\n",
    "plt.xlabel('Mean(V)')\n",
    "plt.ylabel(r'$\\sigma_{V}$')\n",
    "plt.grid()"
   ]
  },
  {
   "cell_type": "code",
   "execution_count": 115,
   "id": "1425f1cf",
   "metadata": {},
   "outputs": [],
   "source": [
    "with open(\"mag_2.pickle\", \"wb\") as f:\n",
    "    pickle.dump(mag2, f)\n",
    "with open(\"merr_2.pickle\", \"wb\") as f:\n",
    "    pickle.dump(merr2, f)\n",
    "with open(\"ids_2.pickle\", \"wb\") as f:\n",
    "    pickle.dump(ids2, f)\n",
    "with open(\"flux_2.pickle\", \"wb\") as f:\n",
    "    pickle.dump(flux2, f)\n",
    "with open(\"time_2.pickle\", \"wb\") as f:\n",
    "    pickle.dump(time2, f)\n",
    "with open(\"prom_2.pickle\", \"wb\") as f:\n",
    "    pickle.dump(prom2, f)\n",
    "with open(\"desv_2.pickle\", \"wb\") as f:\n",
    "    pickle.dump(desv2, f)\n",
    "with open(\"xcoo_2.pickle\", \"wb\") as f:\n",
    "    pickle.dump(xcoo2, f)\n",
    "with open(\"ycoo_2.pickle\", \"wb\") as f:\n",
    "    pickle.dump(ycoo2, f) "
   ]
  },
  {
   "cell_type": "code",
   "execution_count": 116,
   "id": "417d4190",
   "metadata": {},
   "outputs": [],
   "source": [
    "with open(\"mag_2.pickle\", \"rb\") as f:\n",
    "    mag2 = pickle.load(f)\n",
    "with open(\"merr_2.pickle\", \"rb\") as f:\n",
    "    merr2 = pickle.load(f)\n",
    "with open(\"ids_2.pickle\", \"rb\") as f:\n",
    "    ids2 = pickle.load(f)\n",
    "with open(\"flux_2.pickle\", \"rb\") as f:\n",
    "    flux2 = pickle.load(f)\n",
    "with open(\"time_2.pickle\", \"rb\") as f:\n",
    "    time2 = pickle.load(f)\n",
    "with open(\"prom_2.pickle\", \"rb\") as f:\n",
    "    prom2 = pickle.load(f)\n",
    "with open(\"desv_2.pickle\", \"rb\") as f:\n",
    "    desv2 = pickle.load(f)\n",
    "with open(\"xcoo_2.pickle\", \"rb\") as f:\n",
    "    xcoo2 = pickle.load(f)\n",
    "with open(\"ycoo_2.pickle\", \"rb\") as f:\n",
    "    ycoo2 = pickle.load(f)"
   ]
  },
  {
   "cell_type": "code",
   "execution_count": 57,
   "id": "d468919b",
   "metadata": {},
   "outputs": [],
   "source": [
    "def func(x, b, c, d):\n",
    "    return b*x**2 + c*x + d\n",
    "popt, pcov = curve_fit(func, prom2, desv2)\n",
    "b, c, d = popt"
   ]
  },
  {
   "cell_type": "code",
   "execution_count": 58,
   "id": "f9334d16",
   "metadata": {},
   "outputs": [
    {
     "data": {
      "text/plain": [
       "array([ 0.00308965, -0.09264334,  0.78541701])"
      ]
     },
     "execution_count": 58,
     "metadata": {},
     "output_type": "execute_result"
    }
   ],
   "source": [
    "fit = 1.25*func(np.array(prom2), b, c, d)\n",
    "popt*1.25"
   ]
  },
  {
   "cell_type": "code",
   "execution_count": 59,
   "id": "e2fdf4ce",
   "metadata": {},
   "outputs": [
    {
     "data": {
      "text/plain": [
       "Text(0, 0.5, '$\\\\sigma_{promV}$')"
      ]
     },
     "execution_count": 59,
     "metadata": {},
     "output_type": "execute_result"
    },
    {
     "data": {
      "image/png": "[encoded data removed]",
      "text/plain": [
       "<Figure size 432x288 with 1 Axes>"
      ]
     },
     "metadata": {
      "needs_background": "light"
     },
     "output_type": "display_data"
    }
   ],
   "source": [
    "plt.scatter(prom2, desv2, s=1, c='k')\n",
    "plt.scatter(prom2,1.25*func(np.array(prom2), b, c, d), s=0.8, c='r', label=r'fit: $ 0.003x^2 - 0.09x + 0.8$')\n",
    "plt.legend()\n",
    "plt.xlabel(r'Mean(V)[mag]')\n",
    "plt.ylabel(r'$\\sigma_{promV}$')"
   ]
  },
  {
   "cell_type": "code",
   "execution_count": 117,
   "id": "c81b7569",
   "metadata": {},
   "outputs": [],
   "source": [
    "def filtrarfit(fit, mag, merr, ids, flux, prom, desv, time, xcoo, ycoo):\n",
    "    magt = []\n",
    "    merrt = []\n",
    "    idst = []\n",
    "    fluxt = []\n",
    "    promt = []\n",
    "    desvt = []\n",
    "    timet = []\n",
    "    xcoot = []\n",
    "    ycoot = []\n",
    "    for i in tqdm(range(len(prom))):\n",
    "        if (desv[i] > fit[i]):\n",
    "            magt.append(mag[i])\n",
    "            merrt.append(merr[i])\n",
    "            idst.append(ids[i])\n",
    "            fluxt.append(flux[i])\n",
    "            promt.append(prom[i])\n",
    "            desvt.append(desv[i])\n",
    "            timet.append(time[i])\n",
    "            xcoot.append(xcoo[i])\n",
    "            ycoot.append(ycoo[i])\n",
    "            \n",
    "        \n",
    "    return magt, merrt, idst, fluxt, promt, desvt, timet, xcoot, ycoot"
   ]
  },
  {
   "cell_type": "code",
   "execution_count": 118,
   "id": "4cfd7caf",
   "metadata": {},
   "outputs": [
    {
     "name": "stderr",
     "output_type": "stream",
     "text": [
      "100%|████████████████████████████████████████████████████████████████████████| 12408/12408 [00:00<00:00, 728188.78it/s]\n"
     ]
    }
   ],
   "source": [
    "mag3, merr3, ids3, flux3, prom3, desv3, time3, xcoo3, ycoo3= filtrarfit(fit, mag2, merr2, ids2, flux2, prom2, desv2, time2, xcoo2, ycoo2) "
   ]
  },
  {
   "cell_type": "code",
   "execution_count": 68,
   "id": "1897a060",
   "metadata": {},
   "outputs": [
    {
     "data": {
      "text/plain": [
       "Text(0, 0.5, '$\\\\sigma_{promV}$')"
      ]
     },
     "execution_count": 68,
     "metadata": {},
     "output_type": "execute_result"
    },
    {
     "data": {
      "image/png": "[encoded data removed]",
      "text/plain": [
       "<Figure size 432x288 with 1 Axes>"
      ]
     },
     "metadata": {
      "needs_background": "light"
     },
     "output_type": "display_data"
    }
   ],
   "source": [
    "plt.scatter(prom2, desv2, s=1, c='k')\n",
    "plt.scatter(prom2,1.25*func(np.array(prom2), b, c, d), s=0.6, c='r')\n",
    "plt.scatter(prom3, desv3, s=1, c='b')\n",
    "plt.xlabel(r'Mean(V)[mag]')\n",
    "plt.ylabel(r'$\\sigma_{promV}$')"
   ]
  },
  {
   "cell_type": "code",
   "execution_count": 119,
   "id": "6bfe68ff",
   "metadata": {},
   "outputs": [],
   "source": [
    "with open(\"mag_3.pickle\", \"wb\") as f:\n",
    "    pickle.dump(mag3, f)\n",
    "with open(\"merr_3.pickle\", \"wb\") as f:\n",
    "    pickle.dump(merr3, f)\n",
    "with open(\"ids_3.pickle\", \"wb\") as f:\n",
    "    pickle.dump(ids3, f)\n",
    "with open(\"flux_3.pickle\", \"wb\") as f:\n",
    "    pickle.dump(flux3, f)\n",
    "with open(\"time_3.pickle\", \"wb\") as f:\n",
    "    pickle.dump(time3, f)\n",
    "with open(\"prom_3.pickle\", \"wb\") as f:\n",
    "    pickle.dump(prom3, f)\n",
    "with open(\"desv_3.pickle\", \"wb\") as f:\n",
    "    pickle.dump(desv3, f)\n",
    "with open(\"xcoo_3.pickle\", \"wb\") as f:\n",
    "    pickle.dump(xcoo3, f)\n",
    "with open(\"ycoo_3.pickle\", \"wb\") as f:\n",
    "    pickle.dump(ycoo3, f)"
   ]
  },
  {
   "cell_type": "code",
   "execution_count": null,
   "id": "98b30cb8",
   "metadata": {},
   "outputs": [],
   "source": [
    "with open(\"mag_3.pickle\", \"rb\") as f:\n",
    "    mag3 = pickle.load(f)\n",
    "with open(\"merr_3.pickle\", \"rb\") as f:\n",
    "    merr3 = pickle.load(f)\n",
    "with open(\"ids_3.pickle\", \"rb\") as f:\n",
    "    ids3 = pickle.load(f)\n",
    "with open(\"flux_3.pickle\", \"rb\") as f:\n",
    "    flux3 = pickle.load(f)\n",
    "with open(\"time_3.pickle\", \"rb\") as f:\n",
    "    time3 = pickle.load(f)\n",
    "with open(\"prom_3.pickle\", \"rb\") as f:\n",
    "    prom3 = pickle.load(f)\n",
    "with open(\"desv_3.pickle\", \"rb\") as f:\n",
    "    desv3 = pickle.load(f)\n",
    "with open(\"xcoo_3.pickle\", \"rb\") as f:\n",
    "    xcoo3 = pickle.load(f)\n",
    "with open(\"ycoo_3.pickle\", \"rb\") as f:\n",
    "    ycoo3 = pickle.load(f)"
   ]
  },
  {
   "cell_type": "code",
   "execution_count": 120,
   "id": "af237fa1",
   "metadata": {},
   "outputs": [],
   "source": [
    "def datasinnan(mag, merr, flux, time):\n",
    "    magt = []\n",
    "    merrt = []\n",
    "    fluxt = []\n",
    "    timet = []\n",
    "    for i in range(len(mag)):\n",
    "        if (np.isnan(mag[i]) == False) and (np.isnan(time[i]) == False):\n",
    "            timet.append(time[i])\n",
    "            fluxt.append(flux[i])\n",
    "            magt.append(mag[i])\n",
    "            merrt.append(merr[i])\n",
    "\n",
    "           \n",
    "    return magt, merrt, fluxt, timet"
   ]
  },
  {
   "cell_type": "code",
   "execution_count": 121,
   "id": "aff51bd2",
   "metadata": {},
   "outputs": [
    {
     "name": "stderr",
     "output_type": "stream",
     "text": [
      "100%|███████████████████████████████████████████████████████████████████████████████| 423/423 [00:01<00:00, 239.60it/s]\n"
     ]
    }
   ],
   "source": [
    "time4 = []\n",
    "mag4 = []\n",
    "merr4 = []\n",
    "flux4 = []\n",
    "ids4 = ids3\n",
    "prom4 = prom3\n",
    "desv4= desv3\n",
    "xcoo4 = xcoo3\n",
    "ycoo4 = ycoo3\n",
    "for i in tqdm(range(len(mag3))):\n",
    "    magt, merrt, fluxt, timet = datasinnan(mag3[i], merr3[i],  flux3[i], time3[i])\n",
    "    time4.append(np.array(timet))\n",
    "    mag4.append(np.array(magt))\n",
    "    merr4.append(np.array(merrt))\n",
    "    flux4.append(np.array(fluxt))"
   ]
  },
  {
   "cell_type": "code",
   "execution_count": 122,
   "id": "dc46a197",
   "metadata": {},
   "outputs": [],
   "source": [
    "with open(\"mag_4.pickle\", \"wb\") as f:\n",
    "    pickle.dump(mag4, f)\n",
    "with open(\"merr_4.pickle\", \"wb\") as f:\n",
    "    pickle.dump(merr4, f)\n",
    "with open(\"ids_4.pickle\", \"wb\") as f:\n",
    "    pickle.dump(ids4, f)\n",
    "with open(\"flux_4.pickle\", \"wb\") as f:\n",
    "    pickle.dump(flux4, f)\n",
    "with open(\"time_4.pickle\", \"wb\") as f:\n",
    "    pickle.dump(time4, f)\n",
    "with open(\"prom_4.pickle\", \"wb\") as f:\n",
    "    pickle.dump(prom4, f)\n",
    "with open(\"desv_4.pickle\", \"wb\") as f:\n",
    "    pickle.dump(desv4, f)\n",
    "with open(\"xcoo_4.pickle\", \"wb\") as f:\n",
    "    pickle.dump(xcoo4, f)\n",
    "with open(\"ycoo_4.pickle\", \"wb\") as f:\n",
    "    pickle.dump(ycoo4, f)"
   ]
  },
  {
   "cell_type": "code",
   "execution_count": null,
   "id": "876880ba",
   "metadata": {},
   "outputs": [],
   "source": [
    "with open(\"mag_4.pickle\", \"rb\") as f:\n",
    "    mag4 = pickle.load(f)\n",
    "with open(\"merr_4.pickle\", \"rb\") as f:\n",
    "    merr4 = pickle.load(f)\n",
    "with open(\"ids_4.pickle\", \"rb\") as f:\n",
    "    ids4 = pickle.load(f)\n",
    "with open(\"flux_4.pickle\", \"rb\") as f:\n",
    "    flux4 = pickle.load(f)\n",
    "with open(\"time_4.pickle\", \"rb\") as f:\n",
    "    time4 = pickle.load(f)\n",
    "with open(\"prom_4.pickle\", \"rb\") as f:\n",
    "    prom4 = pickle.load(f)\n",
    "with open(\"desv_4.pickle\", \"rb\") as f:\n",
    "    desv4 = pickle.load(f)\n",
    "with open(\"xcoo_4.pickle\", \"rb\") as f:\n",
    "    xcoo4 = pickle.load(f)\n",
    "with open(\"ycoo_4.pickle\", \"rb\") as f:\n",
    "    ycoo4 = pickle.load(f)"
   ]
  },
  {
   "cell_type": "code",
   "execution_count": 74,
   "id": "eb695a55",
   "metadata": {},
   "outputs": [
    {
     "name": "stderr",
     "output_type": "stream",
     "text": [
      "100%|████████████████████████████████████████████████████████████████████████████████| 423/423 [00:44<00:00,  9.57it/s]\n"
     ]
    }
   ],
   "source": [
    "with PdfPages('magTstiltsSet4.pdf') as pdf: \n",
    "    for i in tqdm(range(len(mag4))): \n",
    "        plt.scatter(time4[i], mag4[i], c='k', s=0.8) \n",
    "        plt.gca().invert_yaxis()\n",
    "        plt.xlabel('HJD')\n",
    "        plt.ylabel('V')\n",
    "        plt.title( f'ID_{ids4[i]}, i={i}') \n",
    "        pdf.savefig()\n",
    "        plt.close()"
   ]
  },
  {
   "cell_type": "code",
   "execution_count": 75,
   "id": "c7cc3831",
   "metadata": {},
   "outputs": [],
   "source": [
    "#funciones para Lombscargle\n",
    "def darfase(T, t0, P):\n",
    "    f = np.zeros(len(T))\n",
    "    i = 0\n",
    "    for t in T:\n",
    "        if np.isnan(t)==True:\n",
    "            t = 0\n",
    "        a = (t - t0)/P\n",
    "        b = int((t - t0)/P)\n",
    "        f[i] = a-b\n",
    "        i+=1\n",
    "    return f\n",
    "\n",
    "def darfrec(t):\n",
    "    fmax = 1/(1.1/24)\n",
    "    fmin = 1/9.9\n",
    "    \n",
    "    return fmin, fmax\n",
    "\n",
    "def darDatos(t, t0, m, merr):\n",
    "    \n",
    "    fmin, fmax = darfrec(t)\n",
    "    \n",
    "    ls = LombScargle(t, m, merr)\n",
    "    f, pw = ls.autopower(minimum_frequency=fmin, maximum_frequency=fmax)\n",
    "    \n",
    "    s95 = ls.false_alarm_level(0.05)\n",
    "    s99 = ls.false_alarm_level(0.01)\n",
    "    pwarr = np.sort(pw)\n",
    "    pint = pwarr[-5:]\n",
    "    ub = np.where(np.isin(pw, pint))[0]\n",
    "    fmax = f[ub]\n",
    "    p = 1/fmax\n",
    "    Fase=[]\n",
    "    for i in range(len(p)):\n",
    "        Fase.append(darfase(t, 0, p[i]))\n",
    "    \n",
    "    return pw, f, Fase, p, s95, s99"
   ]
  },
  {
   "cell_type": "code",
   "execution_count": 76,
   "id": "f8213ae2",
   "metadata": {},
   "outputs": [
    {
     "name": "stderr",
     "output_type": "stream",
     "text": [
      " 21%|████████████████▊                                                                | 88/423 [00:02<00:10, 31.09it/s]C:\\Users\\ThinkPad\\Downloads\\anaconda\\lib\\site-packages\\astropy\\timeseries\\periodograms\\lombscargle\\_statistics.py:251: RuntimeWarning: invalid value encountered in sqrt\n",
      "  * np.sqrt(0.5 * NH * Z))\n",
      "100%|████████████████████████████████████████████████████████████████████████████████| 423/423 [00:13<00:00, 31.12it/s]\n"
     ]
    }
   ],
   "source": [
    "pw = []\n",
    "fases = []\n",
    "fre = []\n",
    "p = []\n",
    "s95 = []\n",
    "s99 = []\n",
    "\n",
    "for i in tqdm(range(len(mag4))):\n",
    "    pw1, fre1, fase1,  p1, s951, s991 = darDatos(time4[i], 0, mag4[i], merr4[i])\n",
    "    pw.append(pw1)\n",
    "    fases.append(fase1)\n",
    "    fre.append(fre1)\n",
    "    p.append(p1)\n",
    "    s95.append(s951)\n",
    "    s99.append(s991) "
   ]
  },
  {
   "cell_type": "code",
   "execution_count": 77,
   "id": "421d6c02",
   "metadata": {},
   "outputs": [],
   "source": [
    "with open(\"pw.pickle\", \"wb\") as f:\n",
    "    pickle.dump(pw, f)\n",
    "with open(\"fases.pickle\", \"wb\") as f:\n",
    "    pickle.dump(fases, f)\n",
    "with open(\"fre.pickle\", \"wb\") as f:\n",
    "    pickle.dump(fre, f)\n",
    "with open(\"period.pickle\", \"wb\") as f:\n",
    "    pickle.dump(p, f)\n",
    "with open(\"sig95.pickle\", \"wb\") as f:\n",
    "    pickle.dump(s95, f)\n",
    "with open(\"sig99.pickle\", \"wb\") as f:\n",
    "    pickle.dump(s99, f)"
   ]
  },
  {
   "cell_type": "code",
   "execution_count": null,
   "id": "682e13c0",
   "metadata": {},
   "outputs": [],
   "source": [
    "with open(\"pw.pickle\", \"rb\") as f:\n",
    "    pw = pickle.load(f)\n",
    "with open(\"fases.pickle\", \"rb\") as f:\n",
    "    fases = pickle.load(f)\n",
    "with open(\"fre.pickle\", \"rb\") as f:\n",
    "    fre = pickle.load(f)\n",
    "with open(\"period.pickle\", \"rb\") as f:\n",
    "    p = pickle.load(f)\n",
    "with open(\"sig95.pickle\", \"rb\") as f:\n",
    "    s95 = pickle.load(f)\n",
    "with open(\"sig99.pickle\", \"rb\") as f:\n",
    "    s99 = pickle.load(f)"
   ]
  },
  {
   "cell_type": "code",
   "execution_count": 78,
   "id": "149e92a2",
   "metadata": {},
   "outputs": [
    {
     "name": "stderr",
     "output_type": "stream",
     "text": [
      "100%|████████████████████████████████████████████████████████████████████████████████| 423/423 [05:34<00:00,  1.27it/s]\n"
     ]
    }
   ],
   "source": [
    "with PdfPages('CurvasDao.pdf') as pdf:\n",
    "    for i in tqdm(range(len(mag4))):\n",
    "        fig, axs = plt.subplots(2, 3, figsize=(10,6))\n",
    "        \n",
    "        axs[0, 0].plot(fre[i], pw[i], c='k', linewidth=0.5)\n",
    "        print(ids4[i])\n",
    "        axs[0, 0].set_title( f'ID_{ids4[i]}, i={i}')\n",
    "        axs[0, 0].set_xlabel('Frequency')\n",
    "        axs[0, 0].set_ylabel('Power')\n",
    "        axs[0, 0].axhline(s95[i], color='r', linestyle='--', label='FAL = 0.05')\n",
    "        axs[0, 0].axhline(s99[i], color='b', linestyle='--',  label='FAL = 0.01')\n",
    "        axs[0, 0].legend()\n",
    "        \n",
    "        for j, periodo in enumerate(p[i]):\n",
    "            if j<2:\n",
    "                for k in [-1, 0, 1]:\n",
    "                    axs[0, j+1].scatter(fases[i][j]+k, mag4[i], s=1, c=\"darkred\")\n",
    "                axs[0, j+1].invert_yaxis()\n",
    "                axs[0, j+1].set_xlabel('Fase')\n",
    "                axs[0, j+1].set_ylabel('V')\n",
    "                axs[0, j+1].set_title(f'Periodo={round(p[i][j], 3)}[d]')\n",
    "            else:\n",
    "                for k in [-1, 0, 1]:\n",
    "                    axs[1, j-2].scatter(fases[i][j]+k, mag4[i], s=1, c=\"darkred\")\n",
    "                axs[1, j-2].invert_yaxis()\n",
    "                axs[1, j-2].set_xlabel('Fase')\n",
    "                axs[1, j-2].set_ylabel('V')\n",
    "                axs[1, j-2].set_title(f'Periodo={round(p[i][j], 3)}[d]')\n",
    "        \n",
    "        plt.tight_layout()\n",
    "        pdf.savefig()\n",
    "        plt.close()"
   ]
  },
  {
   "cell_type": "code",
   "execution_count": 81,
   "id": "aa71587d",
   "metadata": {},
   "outputs": [
    {
     "data": {
      "text/plain": [
       "6108.0"
      ]
     },
     "execution_count": 81,
     "metadata": {},
     "output_type": "execute_result"
    }
   ],
   "source": [
    "ids4[179]"
   ]
  },
  {
   "cell_type": "code",
   "execution_count": null,
   "id": "703a17e7",
   "metadata": {},
   "outputs": [],
   "source": []
  }
 ],
 "metadata": {
  "kernelspec": {
   "display_name": "Python 3 (ipykernel)",
   "language": "python",
   "name": "python3"
  },
  "language_info": {
   "codemirror_mode": {
    "name": "ipython",
    "version": 3
   },
   "file_extension": ".py",
   "mimetype": "text/x-python",
   "name": "python",
   "nbconvert_exporter": "python",
   "pygments_lexer": "ipython3",
   "version": "3.9.7"
  }
 },
 "nbformat": 4,
 "nbformat_minor": 5
}
